{
  "nbformat": 4,
  "nbformat_minor": 0,
  "metadata": {
    "colab": {
      "name": "EDA_on_IPL_Dataset_Nikitha.N.ipynb",
      "provenance": [],
      "collapsed_sections": [],
      "authorship_tag": "ABX9TyMkxGVTPRJoSsxwHQscYGI/",
      "include_colab_link": true
    },
    "kernelspec": {
      "name": "python3",
      "display_name": "Python 3"
    },
    "language_info": {
      "name": "python"
    }
  },
  "cells": [
    {
      "cell_type": "markdown",
      "metadata": {
        "id": "view-in-github",
        "colab_type": "text"
      },
      "source": [
        "<a href=\"https://colab.research.google.com/github/Nikithanatarajan1312/EDA-on-IPL-dataset/blob/main/EDA_on_IPL_Dataset_Nikitha_N.ipynb\" target=\"_parent\"><img src=\"https://colab.research.google.com/assets/colab-badge.svg\" alt=\"Open In Colab\"/></a>"
      ]
    },
    {
      "cell_type": "markdown",
      "metadata": {
        "id": "-hNX7pD3I0f-"
      },
      "source": [
        "# **EDA ON IPL DATASET**\n"
      ]
    },
    {
      "cell_type": "markdown",
      "metadata": {
        "id": "Ik8NjaVzL2ru"
      },
      "source": [
        "**IMPORTING LIBRARIES**\n"
      ]
    },
    {
      "cell_type": "code",
      "metadata": {
        "id": "jbQQUD5LI16Q"
      },
      "source": [
        "import pandas as pd\n",
        "import numpy as np\n",
        "import matplotlib.pyplot as plt\n",
        "import seaborn as sns\n",
        "%matplotlib inline"
      ],
      "execution_count": null,
      "outputs": []
    },
    {
      "cell_type": "markdown",
      "metadata": {
        "id": "sVlEUkfMM1ge"
      },
      "source": [
        "**IMPORTING IPL DATASET**\n"
      ]
    },
    {
      "cell_type": "code",
      "metadata": {
        "colab": {
          "base_uri": "https://localhost:8080/",
          "height": 780
        },
        "id": "IfufC_S0Mcpa",
        "outputId": "b4031dd5-c166-40e9-ae1e-b1876e0afe39"
      },
      "source": [
        "ipl_data=pd.read_csv(\"/content/matches.csv\")\n",
        "ipl_data.head(10)"
      ],
      "execution_count": null,
      "outputs": [
        {
          "output_type": "execute_result",
          "data": {
            "text/html": [
              "<div>\n",
              "<style scoped>\n",
              "    .dataframe tbody tr th:only-of-type {\n",
              "        vertical-align: middle;\n",
              "    }\n",
              "\n",
              "    .dataframe tbody tr th {\n",
              "        vertical-align: top;\n",
              "    }\n",
              "\n",
              "    .dataframe thead th {\n",
              "        text-align: right;\n",
              "    }\n",
              "</style>\n",
              "<table border=\"1\" class=\"dataframe\">\n",
              "  <thead>\n",
              "    <tr style=\"text-align: right;\">\n",
              "      <th></th>\n",
              "      <th>id</th>\n",
              "      <th>Season</th>\n",
              "      <th>city</th>\n",
              "      <th>date</th>\n",
              "      <th>team1</th>\n",
              "      <th>team2</th>\n",
              "      <th>toss_winner</th>\n",
              "      <th>toss_decision</th>\n",
              "      <th>result</th>\n",
              "      <th>dl_applied</th>\n",
              "      <th>winner</th>\n",
              "      <th>win_by_runs</th>\n",
              "      <th>win_by_wickets</th>\n",
              "      <th>player_of_match</th>\n",
              "      <th>venue</th>\n",
              "      <th>umpire1</th>\n",
              "      <th>umpire2</th>\n",
              "      <th>umpire3</th>\n",
              "    </tr>\n",
              "  </thead>\n",
              "  <tbody>\n",
              "    <tr>\n",
              "      <th>0</th>\n",
              "      <td>1</td>\n",
              "      <td>IPL-2017</td>\n",
              "      <td>Hyderabad</td>\n",
              "      <td>05-04-2017</td>\n",
              "      <td>Sunrisers Hyderabad</td>\n",
              "      <td>Royal Challengers Bangalore</td>\n",
              "      <td>Royal Challengers Bangalore</td>\n",
              "      <td>field</td>\n",
              "      <td>normal</td>\n",
              "      <td>0</td>\n",
              "      <td>Sunrisers Hyderabad</td>\n",
              "      <td>35</td>\n",
              "      <td>0</td>\n",
              "      <td>Yuvraj Singh</td>\n",
              "      <td>Rajiv Gandhi International Stadium, Uppal</td>\n",
              "      <td>AY Dandekar</td>\n",
              "      <td>NJ Llong</td>\n",
              "      <td>NaN</td>\n",
              "    </tr>\n",
              "    <tr>\n",
              "      <th>1</th>\n",
              "      <td>2</td>\n",
              "      <td>IPL-2017</td>\n",
              "      <td>Pune</td>\n",
              "      <td>06-04-2017</td>\n",
              "      <td>Mumbai Indians</td>\n",
              "      <td>Rising Pune Supergiant</td>\n",
              "      <td>Rising Pune Supergiant</td>\n",
              "      <td>field</td>\n",
              "      <td>normal</td>\n",
              "      <td>0</td>\n",
              "      <td>Rising Pune Supergiant</td>\n",
              "      <td>0</td>\n",
              "      <td>7</td>\n",
              "      <td>SPD Smith</td>\n",
              "      <td>Maharashtra Cricket Association Stadium</td>\n",
              "      <td>A Nand Kishore</td>\n",
              "      <td>S Ravi</td>\n",
              "      <td>NaN</td>\n",
              "    </tr>\n",
              "    <tr>\n",
              "      <th>2</th>\n",
              "      <td>3</td>\n",
              "      <td>IPL-2017</td>\n",
              "      <td>Rajkot</td>\n",
              "      <td>07-04-2017</td>\n",
              "      <td>Gujarat Lions</td>\n",
              "      <td>Kolkata Knight Riders</td>\n",
              "      <td>Kolkata Knight Riders</td>\n",
              "      <td>field</td>\n",
              "      <td>normal</td>\n",
              "      <td>0</td>\n",
              "      <td>Kolkata Knight Riders</td>\n",
              "      <td>0</td>\n",
              "      <td>10</td>\n",
              "      <td>CA Lynn</td>\n",
              "      <td>Saurashtra Cricket Association Stadium</td>\n",
              "      <td>Nitin Menon</td>\n",
              "      <td>CK Nandan</td>\n",
              "      <td>NaN</td>\n",
              "    </tr>\n",
              "    <tr>\n",
              "      <th>3</th>\n",
              "      <td>4</td>\n",
              "      <td>IPL-2017</td>\n",
              "      <td>Indore</td>\n",
              "      <td>08-04-2017</td>\n",
              "      <td>Rising Pune Supergiant</td>\n",
              "      <td>Kings XI Punjab</td>\n",
              "      <td>Kings XI Punjab</td>\n",
              "      <td>field</td>\n",
              "      <td>normal</td>\n",
              "      <td>0</td>\n",
              "      <td>Kings XI Punjab</td>\n",
              "      <td>0</td>\n",
              "      <td>6</td>\n",
              "      <td>GJ Maxwell</td>\n",
              "      <td>Holkar Cricket Stadium</td>\n",
              "      <td>AK Chaudhary</td>\n",
              "      <td>C Shamshuddin</td>\n",
              "      <td>NaN</td>\n",
              "    </tr>\n",
              "    <tr>\n",
              "      <th>4</th>\n",
              "      <td>5</td>\n",
              "      <td>IPL-2017</td>\n",
              "      <td>Bangalore</td>\n",
              "      <td>08-04-2017</td>\n",
              "      <td>Royal Challengers Bangalore</td>\n",
              "      <td>Delhi Daredevils</td>\n",
              "      <td>Royal Challengers Bangalore</td>\n",
              "      <td>bat</td>\n",
              "      <td>normal</td>\n",
              "      <td>0</td>\n",
              "      <td>Royal Challengers Bangalore</td>\n",
              "      <td>15</td>\n",
              "      <td>0</td>\n",
              "      <td>KM Jadhav</td>\n",
              "      <td>M Chinnaswamy Stadium</td>\n",
              "      <td>NaN</td>\n",
              "      <td>NaN</td>\n",
              "      <td>NaN</td>\n",
              "    </tr>\n",
              "    <tr>\n",
              "      <th>5</th>\n",
              "      <td>6</td>\n",
              "      <td>IPL-2017</td>\n",
              "      <td>Hyderabad</td>\n",
              "      <td>09-04-2017</td>\n",
              "      <td>Gujarat Lions</td>\n",
              "      <td>Sunrisers Hyderabad</td>\n",
              "      <td>Sunrisers Hyderabad</td>\n",
              "      <td>field</td>\n",
              "      <td>normal</td>\n",
              "      <td>0</td>\n",
              "      <td>Sunrisers Hyderabad</td>\n",
              "      <td>0</td>\n",
              "      <td>9</td>\n",
              "      <td>Rashid Khan</td>\n",
              "      <td>Rajiv Gandhi International Stadium, Uppal</td>\n",
              "      <td>A Deshmukh</td>\n",
              "      <td>NJ Llong</td>\n",
              "      <td>NaN</td>\n",
              "    </tr>\n",
              "    <tr>\n",
              "      <th>6</th>\n",
              "      <td>7</td>\n",
              "      <td>IPL-2017</td>\n",
              "      <td>Mumbai</td>\n",
              "      <td>09-04-2017</td>\n",
              "      <td>Kolkata Knight Riders</td>\n",
              "      <td>Mumbai Indians</td>\n",
              "      <td>Mumbai Indians</td>\n",
              "      <td>field</td>\n",
              "      <td>normal</td>\n",
              "      <td>0</td>\n",
              "      <td>Mumbai Indians</td>\n",
              "      <td>0</td>\n",
              "      <td>4</td>\n",
              "      <td>N Rana</td>\n",
              "      <td>Wankhede Stadium</td>\n",
              "      <td>Nitin Menon</td>\n",
              "      <td>CK Nandan</td>\n",
              "      <td>NaN</td>\n",
              "    </tr>\n",
              "    <tr>\n",
              "      <th>7</th>\n",
              "      <td>8</td>\n",
              "      <td>IPL-2017</td>\n",
              "      <td>Indore</td>\n",
              "      <td>10-04-2017</td>\n",
              "      <td>Royal Challengers Bangalore</td>\n",
              "      <td>Kings XI Punjab</td>\n",
              "      <td>Royal Challengers Bangalore</td>\n",
              "      <td>bat</td>\n",
              "      <td>normal</td>\n",
              "      <td>0</td>\n",
              "      <td>Kings XI Punjab</td>\n",
              "      <td>0</td>\n",
              "      <td>8</td>\n",
              "      <td>AR Patel</td>\n",
              "      <td>Holkar Cricket Stadium</td>\n",
              "      <td>AK Chaudhary</td>\n",
              "      <td>C Shamshuddin</td>\n",
              "      <td>NaN</td>\n",
              "    </tr>\n",
              "    <tr>\n",
              "      <th>8</th>\n",
              "      <td>9</td>\n",
              "      <td>IPL-2017</td>\n",
              "      <td>Pune</td>\n",
              "      <td>11-04-2017</td>\n",
              "      <td>Delhi Daredevils</td>\n",
              "      <td>Rising Pune Supergiant</td>\n",
              "      <td>Rising Pune Supergiant</td>\n",
              "      <td>field</td>\n",
              "      <td>normal</td>\n",
              "      <td>0</td>\n",
              "      <td>Delhi Daredevils</td>\n",
              "      <td>97</td>\n",
              "      <td>0</td>\n",
              "      <td>SV Samson</td>\n",
              "      <td>Maharashtra Cricket Association Stadium</td>\n",
              "      <td>AY Dandekar</td>\n",
              "      <td>S Ravi</td>\n",
              "      <td>NaN</td>\n",
              "    </tr>\n",
              "    <tr>\n",
              "      <th>9</th>\n",
              "      <td>10</td>\n",
              "      <td>IPL-2017</td>\n",
              "      <td>Mumbai</td>\n",
              "      <td>12-04-2017</td>\n",
              "      <td>Sunrisers Hyderabad</td>\n",
              "      <td>Mumbai Indians</td>\n",
              "      <td>Mumbai Indians</td>\n",
              "      <td>field</td>\n",
              "      <td>normal</td>\n",
              "      <td>0</td>\n",
              "      <td>Mumbai Indians</td>\n",
              "      <td>0</td>\n",
              "      <td>4</td>\n",
              "      <td>JJ Bumrah</td>\n",
              "      <td>Wankhede Stadium</td>\n",
              "      <td>Nitin Menon</td>\n",
              "      <td>CK Nandan</td>\n",
              "      <td>NaN</td>\n",
              "    </tr>\n",
              "  </tbody>\n",
              "</table>\n",
              "</div>"
            ],
            "text/plain": [
              "   id    Season       city  ...         umpire1        umpire2 umpire3\n",
              "0   1  IPL-2017  Hyderabad  ...     AY Dandekar       NJ Llong     NaN\n",
              "1   2  IPL-2017       Pune  ...  A Nand Kishore         S Ravi     NaN\n",
              "2   3  IPL-2017     Rajkot  ...     Nitin Menon      CK Nandan     NaN\n",
              "3   4  IPL-2017     Indore  ...    AK Chaudhary  C Shamshuddin     NaN\n",
              "4   5  IPL-2017  Bangalore  ...             NaN            NaN     NaN\n",
              "5   6  IPL-2017  Hyderabad  ...      A Deshmukh       NJ Llong     NaN\n",
              "6   7  IPL-2017     Mumbai  ...     Nitin Menon      CK Nandan     NaN\n",
              "7   8  IPL-2017     Indore  ...    AK Chaudhary  C Shamshuddin     NaN\n",
              "8   9  IPL-2017       Pune  ...     AY Dandekar         S Ravi     NaN\n",
              "9  10  IPL-2017     Mumbai  ...     Nitin Menon      CK Nandan     NaN\n",
              "\n",
              "[10 rows x 18 columns]"
            ]
          },
          "metadata": {
            "tags": []
          },
          "execution_count": 62
        }
      ]
    },
    {
      "cell_type": "markdown",
      "metadata": {
        "id": "xiZ31thnOBkM"
      },
      "source": [
        "**SIZE OF IPL DATASET(ROWS, COLUMN)**"
      ]
    },
    {
      "cell_type": "code",
      "metadata": {
        "colab": {
          "base_uri": "https://localhost:8080/"
        },
        "id": "hEJVAJFvOWxm",
        "outputId": "a6add18a-0213-47b4-d37b-0d07e312aa9a"
      },
      "source": [
        "ipl_data.shape"
      ],
      "execution_count": null,
      "outputs": [
        {
          "output_type": "execute_result",
          "data": {
            "text/plain": [
              "(756, 18)"
            ]
          },
          "metadata": {
            "tags": []
          },
          "execution_count": 63
        }
      ]
    },
    {
      "cell_type": "code",
      "metadata": {
        "colab": {
          "base_uri": "https://localhost:8080/"
        },
        "id": "8XBs5oA6OZkz",
        "outputId": "fdb11ec3-5e5b-4b6c-bfa1-ab0787f4cef2"
      },
      "source": [
        "ipl_data.info"
      ],
      "execution_count": null,
      "outputs": [
        {
          "output_type": "execute_result",
          "data": {
            "text/plain": [
              "<bound method DataFrame.info of         id    Season  ...                umpire2                  umpire3\n",
              "0        1  IPL-2017  ...               NJ Llong                      NaN\n",
              "1        2  IPL-2017  ...                 S Ravi                      NaN\n",
              "2        3  IPL-2017  ...              CK Nandan                      NaN\n",
              "3        4  IPL-2017  ...          C Shamshuddin                      NaN\n",
              "4        5  IPL-2017  ...                    NaN                      NaN\n",
              "5        6  IPL-2017  ...               NJ Llong                      NaN\n",
              "6        7  IPL-2017  ...              CK Nandan                      NaN\n",
              "7        8  IPL-2017  ...          C Shamshuddin                      NaN\n",
              "8        9  IPL-2017  ...                 S Ravi                      NaN\n",
              "9       10  IPL-2017  ...              CK Nandan                      NaN\n",
              "10      11  IPL-2017  ...               NJ Llong                      NaN\n",
              "11      12  IPL-2017  ...           AK Chaudhary                      NaN\n",
              "12      13  IPL-2017  ...                 S Ravi                      NaN\n",
              "13      14  IPL-2017  ...               NJ Llong                      NaN\n",
              "14      15  IPL-2017  ...            Nitin Menon                      NaN\n",
              "15      16  IPL-2017  ...                 S Ravi                      NaN\n",
              "16      17  IPL-2017  ...          C Shamshuddin                      NaN\n",
              "17      18  IPL-2017  ...              CK Nandan                      NaN\n",
              "18      19  IPL-2017  ...             A Deshmukh                      NaN\n",
              "19      20  IPL-2017  ...              VK Sharma                      NaN\n",
              "20      21  IPL-2017  ...               NJ Llong                      NaN\n",
              "21      22  IPL-2017  ...          C Shamshuddin                      NaN\n",
              "22      23  IPL-2017  ...            Nitin Menon                      NaN\n",
              "23      24  IPL-2017  ...                 S Ravi                      NaN\n",
              "24      25  IPL-2017  ...             A Deshmukh                      NaN\n",
              "25      26  IPL-2017  ...              M Erasmus                      NaN\n",
              "26      27  IPL-2017  ...              CK Nandan                      NaN\n",
              "27      28  IPL-2017  ...                 S Ravi                      NaN\n",
              "28      29  IPL-2017  ...               NJ Llong                      NaN\n",
              "29      30  IPL-2017  ...          C Shamshuddin                      NaN\n",
              "30      31  IPL-2017  ...                 S Ravi                      NaN\n",
              "31      32  IPL-2017  ...              CK Nandan                      NaN\n",
              "32      33  IPL-2017  ...              M Erasmus                      NaN\n",
              "33      34  IPL-2017  ...            CB Gaffaney                      NaN\n",
              "34      35  IPL-2017  ...              CK Nandan                      NaN\n",
              "35      36  IPL-2017  ...                 S Ravi                      NaN\n",
              "36      37  IPL-2017  ...            CB Gaffaney                      NaN\n",
              "37      38  IPL-2017  ...          C Shamshuddin                      NaN\n",
              "38      39  IPL-2017  ...            Nitin Menon                      NaN\n",
              "39      40  IPL-2017  ...         A Nand Kishore                      NaN\n",
              "40      41  IPL-2017  ...            Nitin Menon                      NaN\n",
              "41      42  IPL-2017  ...          C Shamshuddin                      NaN\n",
              "42      43  IPL-2017  ...           AK Chaudhary                      NaN\n",
              "43      44  IPL-2017  ...              CK Nandan                      NaN\n",
              "44      45  IPL-2017  ...          C Shamshuddin                      NaN\n",
              "45      46  IPL-2017  ...              VK Sharma                      NaN\n",
              "46      47  IPL-2017  ...              M Erasmus                      NaN\n",
              "47      48  IPL-2017  ...                 S Ravi                      NaN\n",
              "48      49  IPL-2017  ...           AK Chaudhary                      NaN\n",
              "49      50  IPL-2017  ...         A Nand Kishore                      NaN\n",
              "50      51  IPL-2017  ...              CK Nandan                      NaN\n",
              "51      52  IPL-2017  ...            Nitin Menon                      NaN\n",
              "52      53  IPL-2017  ...                 S Ravi                      NaN\n",
              "53      54  IPL-2017  ...             A Deshmukh                      NaN\n",
              "54      55  IPL-2017  ...          C Shamshuddin                      NaN\n",
              "55      56  IPL-2017  ...          C Shamshuddin                      NaN\n",
              "56      57  IPL-2017  ...            Nitin Menon                      NaN\n",
              "57      58  IPL-2017  ...            Nitin Menon                      NaN\n",
              "58      59  IPL-2017  ...                 S Ravi                      NaN\n",
              "59      60  IPL-2008  ...            RE Koertzen                      NaN\n",
              "60      61  IPL-2008  ...             SL Shastri                      NaN\n",
              "61      62  IPL-2008  ...         GA Pratapkumar                      NaN\n",
              "62      63  IPL-2008  ...              DJ Harper                      NaN\n",
              "63      64  IPL-2008  ...            K Hariharan                      NaN\n",
              "64      65  IPL-2008  ...              RB Tiffin                      NaN\n",
              "65      66  IPL-2008  ...              AM Saheba                      NaN\n",
              "66      67  IPL-2008  ...         GA Pratapkumar                      NaN\n",
              "67      68  IPL-2008  ...              MR Benson                      NaN\n",
              "68      69  IPL-2008  ...              AM Saheba                      NaN\n",
              "69      70  IPL-2008  ...              IL Howell                      NaN\n",
              "70      71  IPL-2008  ...         AV Jayaprakash                      NaN\n",
              "71      72  IPL-2008  ...             SL Shastri                      NaN\n",
              "72      73  IPL-2008  ...              I Shivram                      NaN\n",
              "73      74  IPL-2008  ...              RB Tiffin                      NaN\n",
              "74      75  IPL-2008  ...         AV Jayaprakash                      NaN\n",
              "75      76  IPL-2008  ...              I Shivram                      NaN\n",
              "76      77  IPL-2008  ...              RB Tiffin                      NaN\n",
              "77      78  IPL-2008  ...         GA Pratapkumar                      NaN\n",
              "78      79  IPL-2008  ...            K Hariharan                      NaN\n",
              "79      80  IPL-2008  ...            RE Koertzen                      NaN\n",
              "80      81  IPL-2008  ...              I Shivram                      NaN\n",
              "81      82  IPL-2008  ...            RE Koertzen                      NaN\n",
              "82      83  IPL-2008  ...         AV Jayaprakash                      NaN\n",
              "83      84  IPL-2008  ...            BR Doctrove                      NaN\n",
              "84      85  IPL-2008  ...              RB Tiffin                      NaN\n",
              "85      86  IPL-2008  ...            RE Koertzen                      NaN\n",
              "86      87  IPL-2008  ...              RB Tiffin                      NaN\n",
              "87      88  IPL-2008  ...              IL Howell                      NaN\n",
              "88      89  IPL-2008  ...              AM Saheba                      NaN\n",
              "89      90  IPL-2008  ...         AV Jayaprakash                      NaN\n",
              "90      91  IPL-2008  ...             BG Jerling                      NaN\n",
              "91      92  IPL-2008  ...              AM Saheba                      NaN\n",
              "92      93  IPL-2008  ...            RE Koertzen                      NaN\n",
              "93      94  IPL-2008  ...              I Shivram                      NaN\n",
              "94      95  IPL-2008  ...              IL Howell                      NaN\n",
              "95      96  IPL-2008  ...              AM Saheba                      NaN\n",
              "96      97  IPL-2008  ...            K Hariharan                      NaN\n",
              "97      98  IPL-2008  ...         GA Pratapkumar                      NaN\n",
              "98      99  IPL-2008  ...              DJ Harper                      NaN\n",
              "99     100  IPL-2008  ...            RE Koertzen                      NaN\n",
              "100    101  IPL-2008  ...             SL Shastri                      NaN\n",
              "101    102  IPL-2008  ...              DJ Harper                      NaN\n",
              "102    103  IPL-2008  ...            K Hariharan                      NaN\n",
              "103    104  IPL-2008  ...         GA Pratapkumar                      NaN\n",
              "104    105  IPL-2008  ...            RE Koertzen                      NaN\n",
              "105    106  IPL-2008  ...         GA Pratapkumar                      NaN\n",
              "106    107  IPL-2008  ...              I Shivram                      NaN\n",
              "107    108  IPL-2008  ...               SJ Davis                      NaN\n",
              "108    109  IPL-2008  ...            K Hariharan                      NaN\n",
              "109    110  IPL-2008  ...             SL Shastri                      NaN\n",
              "110    111  IPL-2008  ...             SL Shastri                      NaN\n",
              "111    112  IPL-2008  ...              I Shivram                      NaN\n",
              "112    113  IPL-2008  ...            K Hariharan                      NaN\n",
              "113    114  IPL-2008  ...              AM Saheba                      NaN\n",
              "114    115  IPL-2008  ...            RE Koertzen                      NaN\n",
              "115    116  IPL-2008  ...              DJ Harper                      NaN\n",
              "116    117  IPL-2008  ...            RE Koertzen                      NaN\n",
              "117    118  IPL-2009  ...            K Hariharan                      NaN\n",
              "118    119  IPL-2009  ...              RB Tiffin                      NaN\n",
              "119    120  IPL-2009  ...              SD Ranade                      NaN\n",
              "120    121  IPL-2009  ...            BR Doctrove                      NaN\n",
              "121    122  IPL-2009  ...             SJA Taufel                      NaN\n",
              "122    123  IPL-2009  ...              SD Ranade                      NaN\n",
              "123    124  IPL-2009  ...              AM Saheba                      NaN\n",
              "124    125  IPL-2009  ...             SJA Taufel                      NaN\n",
              "125    126  IPL-2009  ...              M Erasmus                      NaN\n",
              "126    127  IPL-2009  ...         TH Wijewardene                      NaN\n",
              "127    128  IPL-2009  ...             SJA Taufel                      NaN\n",
              "128    129  IPL-2009  ...             BG Jerling                      NaN\n",
              "129    130  IPL-2009  ...            K Hariharan                      NaN\n",
              "130    131  IPL-2009  ...         TH Wijewardene                      NaN\n",
              "131    132  IPL-2009  ...              RB Tiffin                      NaN\n",
              "132    133  IPL-2009  ...            RE Koertzen                      NaN\n",
              "133    134  IPL-2009  ...         TH Wijewardene                      NaN\n",
              "134    135  IPL-2009  ...             SL Shastri                      NaN\n",
              "135    136  IPL-2009  ...              AM Saheba                      NaN\n",
              "136    137  IPL-2009  ...            RE Koertzen                      NaN\n",
              "137    138  IPL-2009  ...            SK Tarapore                      NaN\n",
              "138    139  IPL-2009  ...                 S Ravi                      NaN\n",
              "139    140  IPL-2009  ...             BG Jerling                      NaN\n",
              "140    141  IPL-2009  ...            RE Koertzen                      NaN\n",
              "141    142  IPL-2009  ...              MR Benson                      NaN\n",
              "142    143  IPL-2009  ...         TH Wijewardene                      NaN\n",
              "143    144  IPL-2009  ...              M Erasmus                      NaN\n",
              "144    145  IPL-2009  ...              IL Howell                      NaN\n",
              "145    146  IPL-2009  ...              IL Howell                      NaN\n",
              "146    147  IPL-2009  ...        HDPK Dharmasena                      NaN\n",
              "147    148  IPL-2009  ...              DJ Harper                      NaN\n",
              "148    149  IPL-2009  ...         TH Wijewardene                      NaN\n",
              "149    150  IPL-2009  ...            SK Tarapore                      NaN\n",
              "150    151  IPL-2009  ...              AM Saheba                      NaN\n",
              "151    152  IPL-2009  ...        HDPK Dharmasena                      NaN\n",
              "152    153  IPL-2009  ...             BG Jerling                      NaN\n",
              "153    154  IPL-2009  ...              RB Tiffin                      NaN\n",
              "154    155  IPL-2009  ...        HDPK Dharmasena                      NaN\n",
              "155    156  IPL-2009  ...              SS Hazare                      NaN\n",
              "156    157  IPL-2009  ...            RE Koertzen                      NaN\n",
              "157    158  IPL-2009  ...             SL Shastri                      NaN\n",
              "158    159  IPL-2009  ...              DJ Harper                      NaN\n",
              "159    160  IPL-2009  ...              DJ Harper                      NaN\n",
              "160    161  IPL-2009  ...              IL Howell                      NaN\n",
              "161    162  IPL-2009  ...             SJA Taufel                      NaN\n",
              "162    163  IPL-2009  ...                 S Ravi                      NaN\n",
              "163    164  IPL-2009  ...              RB Tiffin                      NaN\n",
              "164    165  IPL-2009  ...              IL Howell                      NaN\n",
              "165    166  IPL-2009  ...              RB Tiffin                      NaN\n",
              "166    167  IPL-2009  ...              RB Tiffin                      NaN\n",
              "167    168  IPL-2009  ...             SJA Taufel                      NaN\n",
              "168    169  IPL-2009  ...             SJA Taufel                      NaN\n",
              "169    170  IPL-2009  ...                 S Ravi                      NaN\n",
              "170    171  IPL-2009  ...                 S Ravi                      NaN\n",
              "171    172  IPL-2009  ...              DJ Harper                      NaN\n",
              "172    173  IPL-2009  ...             SJA Taufel                      NaN\n",
              "173    174  IPL-2009  ...             SJA Taufel                      NaN\n",
              "174    175  IPL-2010  ...              RB Tiffin                      NaN\n",
              "175    176  IPL-2010  ...              RB Tiffin                      NaN\n",
              "176    177  IPL-2010  ...                 S Ravi                      NaN\n",
              "177    178  IPL-2010  ...              AM Saheba                      NaN\n",
              "178    179  IPL-2010  ...              DJ Harper                      NaN\n",
              "179    180  IPL-2010  ...            RE Koertzen                      NaN\n",
              "180    181  IPL-2010  ...              DJ Harper                      NaN\n",
              "181    182  IPL-2010  ...              AM Saheba                      NaN\n",
              "182    183  IPL-2010  ...            SK Tarapore                      NaN\n",
              "183    184  IPL-2010  ...              DJ Harper                      NaN\n",
              "184    185  IPL-2010  ...            SK Tarapore                      NaN\n",
              "185    186  IPL-2010  ...              M Erasmus                      NaN\n",
              "186    187  IPL-2010  ...              RB Tiffin                      NaN\n",
              "187    188  IPL-2010  ...              SS Hazare                      NaN\n",
              "188    189  IPL-2010  ...              M Erasmus                      NaN\n",
              "189    190  IPL-2010  ...              DJ Harper                      NaN\n",
              "190    191  IPL-2010  ...             SJA Taufel                      NaN\n",
              "191    192  IPL-2010  ...              RB Tiffin                      NaN\n",
              "192    193  IPL-2010  ...            SK Tarapore                      NaN\n",
              "193    194  IPL-2010  ...              AM Saheba                      NaN\n",
              "194    195  IPL-2010  ...             SJA Taufel                      NaN\n",
              "195    196  IPL-2010  ...                 S Ravi                      NaN\n",
              "196    197  IPL-2010  ...            RE Koertzen                      NaN\n",
              "197    198  IPL-2010  ...             SJA Taufel                      NaN\n",
              "198    199  IPL-2010  ...            K Hariharan                      NaN\n",
              "199    200  IPL-2010  ...             SJA Taufel                      NaN\n",
              "200    201  IPL-2010  ...            SK Tarapore                      NaN\n",
              "201    202  IPL-2010  ...            RE Koertzen                      NaN\n",
              "202    203  IPL-2010  ...             SJA Taufel                      NaN\n",
              "203    204  IPL-2010  ...              DJ Harper                      NaN\n",
              "204    205  IPL-2010  ...              M Erasmus                      NaN\n",
              "205    206  IPL-2010  ...              RB Tiffin                      NaN\n",
              "206    207  IPL-2010  ...                 S Ravi                      NaN\n",
              "207    208  IPL-2010  ...              DJ Harper                      NaN\n",
              "208    209  IPL-2010  ...              M Erasmus                      NaN\n",
              "209    210  IPL-2010  ...             SJA Taufel                      NaN\n",
              "210    211  IPL-2010  ...              DJ Harper                      NaN\n",
              "211    212  IPL-2010  ...            SK Tarapore                      NaN\n",
              "212    213  IPL-2010  ...            RE Koertzen                      NaN\n",
              "213    214  IPL-2010  ...              DJ Harper                      NaN\n",
              "214    215  IPL-2010  ...              AM Saheba                      NaN\n",
              "215    216  IPL-2010  ...             SJA Taufel                      NaN\n",
              "216    217  IPL-2010  ...              DJ Harper                      NaN\n",
              "217    218  IPL-2010  ...              AM Saheba                      NaN\n",
              "218    219  IPL-2010  ...            SK Tarapore                      NaN\n",
              "219    220  IPL-2010  ...              RB Tiffin                      NaN\n",
              "220    221  IPL-2010  ...              DJ Harper                      NaN\n",
              "221    222  IPL-2010  ...             SJA Taufel                      NaN\n",
              "222    223  IPL-2010  ...                 S Ravi                      NaN\n",
              "223    224  IPL-2010  ...              SS Hazare                      NaN\n",
              "224    225  IPL-2010  ...              AM Saheba                      NaN\n",
              "225    226  IPL-2010  ...             SJA Taufel                      NaN\n",
              "226    227  IPL-2010  ...              RB Tiffin                      NaN\n",
              "227    228  IPL-2010  ...              AM Saheba                      NaN\n",
              "228    229  IPL-2010  ...            SK Tarapore                      NaN\n",
              "229    230  IPL-2010  ...            RE Koertzen                      NaN\n",
              "230    231  IPL-2010  ...              RB Tiffin                      NaN\n",
              "231    232  IPL-2010  ...              RB Tiffin                      NaN\n",
              "232    233  IPL-2010  ...             SJA Taufel                      NaN\n",
              "233    234  IPL-2010  ...             SJA Taufel                      NaN\n",
              "234    235  IPL-2011  ...             PR Reiffel                      NaN\n",
              "235    236  IPL-2011  ...            SK Tarapore                      NaN\n",
              "236    237  IPL-2011  ...            K Hariharan                      NaN\n",
              "237    238  IPL-2011  ...              RB Tiffin                      NaN\n",
              "238    239  IPL-2011  ...             PR Reiffel                      NaN\n",
              "239    240  IPL-2011  ...            SK Tarapore                      NaN\n",
              "240    241  IPL-2011  ...              RB Tiffin                      NaN\n",
              "241    242  IPL-2011  ...                AL Hill                      NaN\n",
              "242    243  IPL-2011  ...             SL Shastri                      NaN\n",
              "243    244  IPL-2011  ...             PR Reiffel                      NaN\n",
              "244    245  IPL-2011  ...                 S Ravi                      NaN\n",
              "245    246  IPL-2011  ...              SS Hazare                      NaN\n",
              "246    247  IPL-2011  ...             PR Reiffel                      NaN\n",
              "247    248  IPL-2011  ...                AL Hill                      NaN\n",
              "248    249  IPL-2011  ...                 S Ravi                      NaN\n",
              "249    250  IPL-2011  ...              AM Saheba                      NaN\n",
              "250    251  IPL-2011  ...              RB Tiffin                      NaN\n",
              "251    252  IPL-2011  ...                AL Hill                      NaN\n",
              "252    253  IPL-2011  ...              RJ Tucker                      NaN\n",
              "253    254  IPL-2011  ...              AM Saheba                      NaN\n",
              "254    255  IPL-2011  ...              RB Tiffin                      NaN\n",
              "255    256  IPL-2011  ...             PR Reiffel                      NaN\n",
              "256    257  IPL-2011  ...              AM Saheba                      NaN\n",
              "257    258  IPL-2011  ...              RB Tiffin                      NaN\n",
              "258    259  IPL-2011  ...            RE Koertzen                      NaN\n",
              "259    260  IPL-2011  ...                AL Hill                      NaN\n",
              "260    261  IPL-2011  ...            SK Tarapore                      NaN\n",
              "261    262  IPL-2011  ...              RB Tiffin                      NaN\n",
              "262    263  IPL-2011  ...              RJ Tucker                      NaN\n",
              "263    264  IPL-2011  ...             SL Shastri                      NaN\n",
              "264    265  IPL-2011  ...                AL Hill                      NaN\n",
              "265    266  IPL-2011  ...              RJ Tucker                      NaN\n",
              "266    267  IPL-2011  ...            SK Tarapore                      NaN\n",
              "267    268  IPL-2011  ...              SS Hazare                      NaN\n",
              "268    269  IPL-2011  ...                AL Hill                      NaN\n",
              "269    270  IPL-2011  ...             SL Shastri                      NaN\n",
              "270    271  IPL-2011  ...             SJA Taufel                      NaN\n",
              "271    272  IPL-2011  ...              RB Tiffin                      NaN\n",
              "272    273  IPL-2011  ...             PR Reiffel                      NaN\n",
              "273    274  IPL-2011  ...             SL Shastri                      NaN\n",
              "274    275  IPL-2011  ...              RJ Tucker                      NaN\n",
              "275    276  IPL-2011  ...              RB Tiffin                      NaN\n",
              "276    277  IPL-2011  ...             SJA Taufel                      NaN\n",
              "277    278  IPL-2011  ...              RJ Tucker                      NaN\n",
              "278    279  IPL-2011  ...              AM Saheba                      NaN\n",
              "279    280  IPL-2011  ...              RB Tiffin                      NaN\n",
              "280    281  IPL-2011  ...             PR Reiffel                      NaN\n",
              "281    282  IPL-2011  ...             SJA Taufel                      NaN\n",
              "282    283  IPL-2011  ...              SS Hazare                      NaN\n",
              "283    284  IPL-2011  ...              RJ Tucker                      NaN\n",
              "284    285  IPL-2011  ...             SJA Taufel                      NaN\n",
              "285    286  IPL-2011  ...              AM Saheba                      NaN\n",
              "286    287  IPL-2011  ...              RJ Tucker                      NaN\n",
              "287    288  IPL-2011  ...            K Hariharan                      NaN\n",
              "288    289  IPL-2011  ...             SL Shastri                      NaN\n",
              "289    290  IPL-2011  ...              RJ Tucker                      NaN\n",
              "290    291  IPL-2011  ...              RB Tiffin                      NaN\n",
              "291    292  IPL-2011  ...            SK Tarapore                      NaN\n",
              "292    293  IPL-2011  ...             SL Shastri                      NaN\n",
              "293    294  IPL-2011  ...              RJ Tucker                      NaN\n",
              "294    295  IPL-2011  ...            SK Tarapore                      NaN\n",
              "295    296  IPL-2011  ...              AM Saheba                      NaN\n",
              "296    297  IPL-2011  ...            RE Koertzen                      NaN\n",
              "297    298  IPL-2011  ...             SJA Taufel                      NaN\n",
              "298    299  IPL-2011  ...             PR Reiffel                      NaN\n",
              "299    300  IPL-2011  ...              AM Saheba                      NaN\n",
              "300    301  IPL-2011  ...              RJ Tucker                      NaN\n",
              "301    302  IPL-2011  ...            RE Koertzen                      NaN\n",
              "302    303  IPL-2011  ...             SJA Taufel                      NaN\n",
              "303    304  IPL-2011  ...             SJA Taufel                      NaN\n",
              "304    305  IPL-2011  ...             SJA Taufel                      NaN\n",
              "305    306  IPL-2011  ...             SJA Taufel                      NaN\n",
              "306    307  IPL-2011  ...             SJA Taufel                      NaN\n",
              "307    308  IPL-2012  ...             SJA Taufel                      NaN\n",
              "308    309  IPL-2012  ...        HDPK Dharmasena                      NaN\n",
              "309    310  IPL-2012  ...             SJA Taufel                      NaN\n",
              "310    311  IPL-2012  ...            SK Tarapore                      NaN\n",
              "311    312  IPL-2012  ...                 S Ravi                      NaN\n",
              "312    313  IPL-2012  ...        HDPK Dharmasena                      NaN\n",
              "313    314  IPL-2012  ...            VA Kulkarni                      NaN\n",
              "314    315  IPL-2012  ...             SJA Taufel                      NaN\n",
              "315    316  IPL-2012  ...              JD Cloete                      NaN\n",
              "316    317  IPL-2012  ...              RJ Tucker                      NaN\n",
              "317    318  IPL-2012  ...            SK Tarapore                      NaN\n",
              "318    319  IPL-2012  ...           BNJ Oxenford                      NaN\n",
              "319    320  IPL-2012  ...              RJ Tucker                      NaN\n",
              "320    321  IPL-2012  ...            SK Tarapore                      NaN\n",
              "321    322  IPL-2012  ...               S Asnani                      NaN\n",
              "322    323  IPL-2012  ...            SK Tarapore                      NaN\n",
              "323    324  IPL-2012  ...           BNJ Oxenford                      NaN\n",
              "324    325  IPL-2012  ...               S Asnani                      NaN\n",
              "325    326  IPL-2012  ...              RJ Tucker                      NaN\n",
              "326    327  IPL-2012  ...            SK Tarapore                      NaN\n",
              "327    328  IPL-2012  ...           BNJ Oxenford                      NaN\n",
              "328    329  IPL-2012  ...                  S Das                      NaN\n",
              "329    330  IPL-2012  ...              RJ Tucker                      NaN\n",
              "330    331  IPL-2012  ...             SJA Taufel                      NaN\n",
              "331    332  IPL-2012  ...                  S Das                      NaN\n",
              "332    333  IPL-2012  ...              RJ Tucker                      NaN\n",
              "333    334  IPL-2012  ...           BNJ Oxenford                      NaN\n",
              "334    335  IPL-2012  ...                  S Das                      NaN\n",
              "335    336  IPL-2012  ...              RJ Tucker                      NaN\n",
              "336    337  IPL-2012  ...            SK Tarapore                      NaN\n",
              "337    338  IPL-2012  ...               S Asnani                      NaN\n",
              "338    339  IPL-2012  ...              RJ Tucker                      NaN\n",
              "339    340  IPL-2012  ...           BNJ Oxenford                      NaN\n",
              "340    341  IPL-2012  ...              RJ Tucker                      NaN\n",
              "341    342  IPL-2012  ...           BNJ Oxenford                      NaN\n",
              "342    343  IPL-2012  ...            SK Tarapore                      NaN\n",
              "343    344  IPL-2012  ...            BR Doctrove                      NaN\n",
              "344    345  IPL-2012  ...              RJ Tucker                      NaN\n",
              "345    346  IPL-2012  ...           BNJ Oxenford                      NaN\n",
              "346    347  IPL-2012  ...          C Shamshuddin                      NaN\n",
              "347    348  IPL-2012  ...           AK Chaudhary                      NaN\n",
              "348    349  IPL-2012  ...             SJA Taufel                      NaN\n",
              "349    350  IPL-2012  ...          C Shamshuddin                      NaN\n",
              "350    351  IPL-2012  ...               S Asnani                      NaN\n",
              "351    352  IPL-2012  ...           BNJ Oxenford                      NaN\n",
              "352    353  IPL-2012  ...            SK Tarapore                      NaN\n",
              "353    354  IPL-2012  ...             SJA Taufel                      NaN\n",
              "354    355  IPL-2012  ...               S Asnani                      NaN\n",
              "355    356  IPL-2012  ...           BNJ Oxenford                      NaN\n",
              "356    357  IPL-2012  ...                 S Ravi                      NaN\n",
              "357    358  IPL-2012  ...            BR Doctrove                      NaN\n",
              "358    359  IPL-2012  ...           BNJ Oxenford                      NaN\n",
              "359    360  IPL-2012  ...            VA Kulkarni                      NaN\n",
              "360    361  IPL-2012  ...          C Shamshuddin                      NaN\n",
              "361    362  IPL-2012  ...            SK Tarapore                      NaN\n",
              "362    363  IPL-2012  ...             SJA Taufel                      NaN\n",
              "363    364  IPL-2012  ...            BR Doctrove                      NaN\n",
              "364    365  IPL-2012  ...            SK Tarapore                      NaN\n",
              "365    366  IPL-2012  ...           BNJ Oxenford                      NaN\n",
              "366    367  IPL-2012  ...            BR Doctrove                      NaN\n",
              "367    368  IPL-2012  ...             SJA Taufel                      NaN\n",
              "368    369  IPL-2012  ...           BNJ Oxenford                      NaN\n",
              "369    370  IPL-2012  ...            BR Doctrove                      NaN\n",
              "370    371  IPL-2012  ...            SK Tarapore                      NaN\n",
              "371    372  IPL-2012  ...          C Shamshuddin                      NaN\n",
              "372    373  IPL-2012  ...             SJA Taufel                      NaN\n",
              "373    374  IPL-2012  ...            VA Kulkarni                      NaN\n",
              "374    375  IPL-2012  ...            BR Doctrove                      NaN\n",
              "375    376  IPL-2012  ...             SJA Taufel                      NaN\n",
              "376    377  IPL-2012  ...          C Shamshuddin                      NaN\n",
              "377    378  IPL-2012  ...             SJA Taufel                      NaN\n",
              "378    379  IPL-2012  ...        HDPK Dharmasena                      NaN\n",
              "379    380  IPL-2012  ...             SJA Taufel                      NaN\n",
              "380    381  IPL-2012  ...             SJA Taufel                      NaN\n",
              "381    382  IPL-2013  ...             SJA Taufel                      NaN\n",
              "382    383  IPL-2013  ...          C Shamshuddin                      NaN\n",
              "383    384  IPL-2013  ...             SJA Taufel                      NaN\n",
              "384    385  IPL-2013  ...          C Shamshuddin                      NaN\n",
              "385    386  IPL-2013  ...            VA Kulkarni                      NaN\n",
              "386    387  IPL-2013  ...             SJA Taufel                      NaN\n",
              "387    388  IPL-2013  ...                 S Ravi                      NaN\n",
              "388    389  IPL-2013  ...                  S Das                      NaN\n",
              "389    390  IPL-2013  ...            VA Kulkarni                      NaN\n",
              "390    391  IPL-2013  ...          C Shamshuddin                      NaN\n",
              "391    392  IPL-2013  ...           AK Chaudhary                      NaN\n",
              "392    393  IPL-2013  ...              K Srinath                      NaN\n",
              "393    394  IPL-2013  ...            Subroto Das                      NaN\n",
              "394    395  IPL-2013  ...             SJA Taufel                      NaN\n",
              "395    396  IPL-2013  ...           AK Chaudhary                      NaN\n",
              "396    397  IPL-2013  ...            VA Kulkarni                      NaN\n",
              "397    398  IPL-2013  ...          C Shamshuddin                      NaN\n",
              "398    399  IPL-2013  ...           AK Chaudhary                      NaN\n",
              "399    400  IPL-2013  ...             SJA Taufel                      NaN\n",
              "400    401  IPL-2013  ...            VA Kulkarni                      NaN\n",
              "401    402  IPL-2013  ...           AK Chaudhary                      NaN\n",
              "402    403  IPL-2013  ...          C Shamshuddin                      NaN\n",
              "403    404  IPL-2013  ...            VA Kulkarni                      NaN\n",
              "404    405  IPL-2013  ...              CK Nandan                      NaN\n",
              "405    406  IPL-2013  ...           AK Chaudhary                      NaN\n",
              "406    407  IPL-2013  ...          C Shamshuddin                      NaN\n",
              "407    408  IPL-2013  ...                 S Ravi                      NaN\n",
              "408    409  IPL-2013  ...              K Srinath                      NaN\n",
              "409    410  IPL-2013  ...           AK Chaudhary                      NaN\n",
              "410    411  IPL-2013  ...          C Shamshuddin                      NaN\n",
              "411    412  IPL-2013  ...                 S Ravi                      NaN\n",
              "412    413  IPL-2013  ...                 S Ravi                      NaN\n",
              "413    414  IPL-2013  ...                  S Das                      NaN\n",
              "414    415  IPL-2013  ...                 S Ravi                      NaN\n",
              "415    416  IPL-2013  ...              K Srinath                      NaN\n",
              "416    417  IPL-2013  ...               S Asnani                      NaN\n",
              "417    418  IPL-2013  ...             SJA Taufel                      NaN\n",
              "418    419  IPL-2013  ...                 S Ravi                      NaN\n",
              "419    420  IPL-2013  ...              K Srinath                      NaN\n",
              "420    421  IPL-2013  ...           AK Chaudhary                      NaN\n",
              "421    422  IPL-2013  ...             SJA Taufel                      NaN\n",
              "422    423  IPL-2013  ...               S Asnani                      NaN\n",
              "423    424  IPL-2013  ...              CK Nandan                      NaN\n",
              "424    425  IPL-2013  ...            VA Kulkarni                      NaN\n",
              "425    426  IPL-2013  ...          C Shamshuddin                      NaN\n",
              "426    427  IPL-2013  ...              CK Nandan                      NaN\n",
              "427    428  IPL-2013  ...               S Asnani                      NaN\n",
              "428    429  IPL-2013  ...                 S Ravi                      NaN\n",
              "429    430  IPL-2013  ...              CK Nandan                      NaN\n",
              "430    431  IPL-2013  ...              RJ Tucker                      NaN\n",
              "431    432  IPL-2013  ...             SJA Taufel                      NaN\n",
              "432    433  IPL-2013  ...              RJ Tucker                      NaN\n",
              "433    434  IPL-2013  ...                 S Ravi                      NaN\n",
              "434    435  IPL-2013  ...               NJ Llong                      NaN\n",
              "435    436  IPL-2013  ...                 S Ravi                      NaN\n",
              "436    437  IPL-2013  ...               S Asnani                      NaN\n",
              "437    438  IPL-2013  ...              K Srinath                      NaN\n",
              "438    439  IPL-2013  ...           AK Chaudhary                      NaN\n",
              "439    440  IPL-2013  ...              RJ Tucker                      NaN\n",
              "440    441  IPL-2013  ...              K Srinath                      NaN\n",
              "441    442  IPL-2013  ...              CK Nandan                      NaN\n",
              "442    443  IPL-2013  ...              K Srinath                      NaN\n",
              "443    444  IPL-2013  ...             SJA Taufel                      NaN\n",
              "444    445  IPL-2013  ...              K Srinath                      NaN\n",
              "445    446  IPL-2013  ...              RJ Tucker                      NaN\n",
              "446    447  IPL-2013  ...               S Asnani                      NaN\n",
              "447    448  IPL-2013  ...               NJ Llong                      NaN\n",
              "448    449  IPL-2013  ...           AK Chaudhary                      NaN\n",
              "449    450  IPL-2013  ...              CK Nandan                      NaN\n",
              "450    451  IPL-2013  ...             SJA Taufel                      NaN\n",
              "451    452  IPL-2013  ...              RJ Tucker                      NaN\n",
              "452    453  IPL-2013  ...               S Asnani                      NaN\n",
              "453    454  IPL-2013  ...              RJ Tucker                      NaN\n",
              "454    455  IPL-2013  ...              RJ Tucker                      NaN\n",
              "455    456  IPL-2013  ...             SJA Taufel                      NaN\n",
              "456    457  IPL-2013  ...             SJA Taufel                      NaN\n",
              "457    458  IPL-2014  ...         RK Illingworth                      NaN\n",
              "458    459  IPL-2014  ...                 S Ravi                      NaN\n",
              "459    460  IPL-2014  ...          C Shamshuddin                      NaN\n",
              "460    461  IPL-2014  ...         RK Illingworth                      NaN\n",
              "461    462  IPL-2014  ...           AK Chaudhary                      NaN\n",
              "462    463  IPL-2014  ...            VA Kulkarni                      NaN\n",
              "463    464  IPL-2014  ...              M Erasmus                      NaN\n",
              "464    465  IPL-2014  ...          C Shamshuddin                      NaN\n",
              "465    466  IPL-2014  ...                 S Ravi                      NaN\n",
              "466    467  IPL-2014  ...         RK Illingworth                      NaN\n",
              "467    468  IPL-2014  ...            VA Kulkarni                      NaN\n",
              "468    469  IPL-2014  ...                 S Ravi                      NaN\n",
              "469    470  IPL-2014  ...              M Erasmus                      NaN\n",
              "470    471  IPL-2014  ...          C Shamshuddin                      NaN\n",
              "471    472  IPL-2014  ...         RK Illingworth                      NaN\n",
              "472    473  IPL-2014  ...            VA Kulkarni                      NaN\n",
              "473    474  IPL-2014  ...            VA Kulkarni                      NaN\n",
              "474    475  IPL-2014  ...                 S Ravi                      NaN\n",
              "475    476  IPL-2014  ...           AK Chaudhary                      NaN\n",
              "476    477  IPL-2014  ...              M Erasmus                      NaN\n",
              "477    478  IPL-2014  ...               NJ Llong                      NaN\n",
              "478    479  IPL-2014  ...          C Shamshuddin                      NaN\n",
              "479    480  IPL-2014  ...                 S Ravi                      NaN\n",
              "480    481  IPL-2014  ...            VA Kulkarni                      NaN\n",
              "481    482  IPL-2014  ...              CK Nandan                      NaN\n",
              "482    483  IPL-2014  ...           BNJ Oxenford                      NaN\n",
              "483    484  IPL-2014  ...              K Srinath                      NaN\n",
              "484    485  IPL-2014  ...          C Shamshuddin                      NaN\n",
              "485    486  IPL-2014  ...              PG Pathak                      NaN\n",
              "486    487  IPL-2014  ...               NJ Llong                      NaN\n",
              "487    488  IPL-2014  ...              K Srinath                      NaN\n",
              "488    489  IPL-2014  ...           BNJ Oxenford                      NaN\n",
              "489    490  IPL-2014  ...            VA Kulkarni                      NaN\n",
              "490    491  IPL-2014  ...              CK Nandan                      NaN\n",
              "491    492  IPL-2014  ...              RJ Tucker                      NaN\n",
              "492    493  IPL-2014  ...            VA Kulkarni                      NaN\n",
              "493    494  IPL-2014  ...          C Shamshuddin                      NaN\n",
              "494    495  IPL-2014  ...              RJ Tucker                      NaN\n",
              "495    496  IPL-2014  ...              PG Pathak                      NaN\n",
              "496    497  IPL-2014  ...               NJ Llong                      NaN\n",
              "497    498  IPL-2014  ...              RJ Tucker                      NaN\n",
              "498    499  IPL-2014  ...          C Shamshuddin                      NaN\n",
              "499    500  IPL-2014  ...              CK Nandan                      NaN\n",
              "500    501  IPL-2014  ...              RJ Tucker                      NaN\n",
              "501    502  IPL-2014  ...              PG Pathak                      NaN\n",
              "502    503  IPL-2014  ...               NJ Llong                      NaN\n",
              "503    504  IPL-2014  ...          C Shamshuddin                      NaN\n",
              "504    505  IPL-2014  ...            VA Kulkarni                      NaN\n",
              "505    506  IPL-2014  ...              CK Nandan                      NaN\n",
              "506    507  IPL-2014  ...          C Shamshuddin                      NaN\n",
              "507    508  IPL-2014  ...              RJ Tucker                      NaN\n",
              "508    509  IPL-2014  ...              PG Pathak                      NaN\n",
              "509    510  IPL-2014  ...               NJ Llong                      NaN\n",
              "510    511  IPL-2014  ...           BNJ Oxenford                      NaN\n",
              "511    512  IPL-2014  ...            VA Kulkarni                      NaN\n",
              "512    513  IPL-2014  ...              RJ Tucker                      NaN\n",
              "513    514  IPL-2014  ...                 S Ravi                      NaN\n",
              "514    515  IPL-2014  ...           BNJ Oxenford                      NaN\n",
              "515    516  IPL-2014  ...              RJ Tucker                      NaN\n",
              "516    517  IPL-2014  ...           BNJ Oxenford                      NaN\n",
              "517    518  IPL-2015  ...          C Shamshuddin                      NaN\n",
              "518    519  IPL-2015  ...            VA Kulkarni                      NaN\n",
              "519    520  IPL-2015  ...            CB Gaffaney                      NaN\n",
              "520    521  IPL-2015  ...            VA Kulkarni                      NaN\n",
              "521    522  IPL-2015  ...          C Shamshuddin                      NaN\n",
              "522    523  IPL-2015  ...            CB Gaffaney                      NaN\n",
              "523    524  IPL-2015  ...           K Srinivasan                      NaN\n",
              "524    525  IPL-2015  ...         RK Illingworth                      NaN\n",
              "525    526  IPL-2015  ...                 SD Fry                      NaN\n",
              "526    527  IPL-2015  ...              M Erasmus                      NaN\n",
              "527    528  IPL-2015  ...              K Srinath                      NaN\n",
              "528    529  IPL-2015  ...                 S Ravi                      NaN\n",
              "529    530  IPL-2015  ...              M Erasmus                      NaN\n",
              "530    531  IPL-2015  ...                 S Ravi                      NaN\n",
              "531    532  IPL-2015  ...              CK Nandan                      NaN\n",
              "532    533  IPL-2015  ...              M Erasmus                      NaN\n",
              "533    534  IPL-2015  ...            VA Kulkarni                      NaN\n",
              "534    535  IPL-2015  ...            CB Gaffaney                      NaN\n",
              "535    536  IPL-2015  ...                 S Ravi                      NaN\n",
              "536    537  IPL-2015  ...            VA Kulkarni                      NaN\n",
              "537    538  IPL-2015  ...          C Shamshuddin                      NaN\n",
              "538    539  IPL-2015  ...              CK Nandan                      NaN\n",
              "539    540  IPL-2015  ...                 S Ravi                      NaN\n",
              "540    541  IPL-2015  ...            CB Gaffaney                      NaN\n",
              "541    542  IPL-2015  ...          C Shamshuddin                      NaN\n",
              "542    543  IPL-2015  ...                 S Ravi                      NaN\n",
              "543    544  IPL-2015  ...            CB Gaffaney                      NaN\n",
              "544    545  IPL-2015  ...              M Erasmus                      NaN\n",
              "545    546  IPL-2015  ...              PG Pathak                      NaN\n",
              "546    547  IPL-2015  ...            VA Kulkarni                      NaN\n",
              "547    548  IPL-2015  ...                 S Ravi                      NaN\n",
              "548    549  IPL-2015  ...              CK Nandan                      NaN\n",
              "549    550  IPL-2015  ...              PG Pathak                      NaN\n",
              "550    551  IPL-2015  ...           K Srinivasan                      NaN\n",
              "551    552  IPL-2015  ...            VA Kulkarni                      NaN\n",
              "552    553  IPL-2015  ...            CB Gaffaney                      NaN\n",
              "553    554  IPL-2015  ...              K Srinath                      NaN\n",
              "554    555  IPL-2015  ...              M Erasmus                      NaN\n",
              "555    556  IPL-2015  ...            CB Gaffaney                      NaN\n",
              "556    557  IPL-2015  ...            VA Kulkarni                      NaN\n",
              "557    558  IPL-2015  ...          C Shamshuddin                      NaN\n",
              "558    559  IPL-2015  ...              CK Nandan                      NaN\n",
              "559    560  IPL-2015  ...        HDPK Dharmasena                      NaN\n",
              "560    561  IPL-2015  ...                 S Ravi                      NaN\n",
              "561    562  IPL-2015  ...          C Shamshuddin                      NaN\n",
              "562    563  IPL-2015  ...              CK Nandan                      NaN\n",
              "563    564  IPL-2015  ...        HDPK Dharmasena                      NaN\n",
              "564    565  IPL-2015  ...            VA Kulkarni                      NaN\n",
              "565    566  IPL-2015  ...          C Shamshuddin                      NaN\n",
              "566    567  IPL-2015  ...            VA Kulkarni                      NaN\n",
              "567    568  IPL-2015  ...        HDPK Dharmasena                      NaN\n",
              "568    569  IPL-2015  ...          C Shamshuddin                      NaN\n",
              "569    570  IPL-2015  ...         RK Illingworth                      NaN\n",
              "570    571  IPL-2015  ...           K Srinivasan                      NaN\n",
              "571    572  IPL-2015  ...              K Srinath                      NaN\n",
              "572    573  IPL-2015  ...         RK Illingworth                      NaN\n",
              "573    574  IPL-2015  ...          C Shamshuddin                      NaN\n",
              "574    575  IPL-2015  ...            CB Gaffaney                      NaN\n",
              "575    576  IPL-2015  ...         RK Illingworth                      NaN\n",
              "576    577  IPL-2016  ...              CK Nandan                      NaN\n",
              "577    578  IPL-2016  ...          C Shamshuddin                      NaN\n",
              "578    579  IPL-2016  ...            VA Kulkarni                      NaN\n",
              "579    580  IPL-2016  ...              VK Sharma                      NaN\n",
              "580    581  IPL-2016  ...                 S Ravi                      NaN\n",
              "581    582  IPL-2016  ...              CK Nandan                      NaN\n",
              "582    583  IPL-2016  ...          C Shamshuddin                      NaN\n",
              "583    584  IPL-2016  ...              CK Nandan                      NaN\n",
              "584    585  IPL-2016  ...              VK Sharma                      NaN\n",
              "585    586  IPL-2016  ...          C Shamshuddin                      NaN\n",
              "586    587  IPL-2016  ...         A Nand Kishore                      NaN\n",
              "587    588  IPL-2016  ...              VK Sharma                      NaN\n",
              "588    589  IPL-2016  ...          C Shamshuddin                      NaN\n",
              "589    590  IPL-2016  ...              CK Nandan                      NaN\n",
              "590    591  IPL-2016  ...        HDPK Dharmasena                      NaN\n",
              "591    592  IPL-2016  ...              VK Sharma                      NaN\n",
              "592    593  IPL-2016  ...          C Shamshuddin                      NaN\n",
              "593    594  IPL-2016  ...              CK Nandan                      NaN\n",
              "594    595  IPL-2016  ...           BNJ Oxenford                      NaN\n",
              "595    596  IPL-2016  ...         A Nand Kishore                      NaN\n",
              "596    597  IPL-2016  ...              RJ Tucker                      NaN\n",
              "597    598  IPL-2016  ...              CK Nandan                      NaN\n",
              "598    599  IPL-2016  ...                 S Ravi                      NaN\n",
              "599    600  IPL-2016  ...              RJ Tucker                      NaN\n",
              "600    601  IPL-2016  ...           BNJ Oxenford                      NaN\n",
              "601    602  IPL-2016  ...              M Erasmus                      NaN\n",
              "602    603  IPL-2016  ...        HDPK Dharmasena                      NaN\n",
              "603    604  IPL-2016  ...              VK Sharma                      NaN\n",
              "604    605  IPL-2016  ...              RJ Tucker                      NaN\n",
              "605    606  IPL-2016  ...                 S Ravi                      NaN\n",
              "606    607  IPL-2016  ...           BNJ Oxenford                      NaN\n",
              "607    608  IPL-2016  ...        HDPK Dharmasena                      NaN\n",
              "608    609  IPL-2016  ...              RJ Tucker                      NaN\n",
              "609    610  IPL-2016  ...                 S Ravi                      NaN\n",
              "610    611  IPL-2016  ...           BNJ Oxenford                      NaN\n",
              "611    612  IPL-2016  ...              CK Nandan                      NaN\n",
              "612    613  IPL-2016  ...          C Shamshuddin                      NaN\n",
              "613    614  IPL-2016  ...              RJ Tucker                      NaN\n",
              "614    615  IPL-2016  ...        HDPK Dharmasena                      NaN\n",
              "615    616  IPL-2016  ...              VK Sharma                      NaN\n",
              "616    617  IPL-2016  ...          C Shamshuddin                      NaN\n",
              "617    618  IPL-2016  ...              M Erasmus                      NaN\n",
              "618    619  IPL-2016  ...              CK Nandan                      NaN\n",
              "619    620  IPL-2016  ...              VK Sharma                      NaN\n",
              "620    621  IPL-2016  ...           BNJ Oxenford                      NaN\n",
              "621    622  IPL-2016  ...              M Erasmus                      NaN\n",
              "622    623  IPL-2016  ...              CK Nandan                      NaN\n",
              "623    624  IPL-2016  ...         A Nand Kishore                      NaN\n",
              "624    625  IPL-2016  ...          C Shamshuddin                      NaN\n",
              "625    626  IPL-2016  ...              M Erasmus                      NaN\n",
              "626    627  IPL-2016  ...              CK Nandan                      NaN\n",
              "627    628  IPL-2016  ...           BNJ Oxenford                      NaN\n",
              "628    629  IPL-2016  ...            Nitin Menon                      NaN\n",
              "629    630  IPL-2016  ...              CK Nandan                      NaN\n",
              "630    631  IPL-2016  ...              M Erasmus                      NaN\n",
              "631    632  IPL-2016  ...           BNJ Oxenford                      NaN\n",
              "632    633  IPL-2016  ...        HDPK Dharmasena                      NaN\n",
              "633    634  IPL-2016  ...          C Shamshuddin                      NaN\n",
              "634    635  IPL-2016  ...              CK Nandan                      NaN\n",
              "635    636  IPL-2016  ...           BNJ Oxenford                      NaN\n",
              "636   7894  IPL-2018  ...        A Nanda Kishore           Anil Chaudhary\n",
              "637   7895  IPL-2018  ...   K Ananthapadmanabhan              Nitin Menon\n",
              "638   7896  IPL-2018  ...           A.D Deshmukh                   S Ravi\n",
              "639   7897  IPL-2018  ...        Vineet Kulkarni                 O Nandan\n",
              "640   7898  IPL-2018  ...         Chris Gaffaney          A Nanda Kishore\n",
              "641   7899  IPL-2018  ...             Rod Tucker              Nitin Menon\n",
              "642   7900  IPL-2018  ...            Nigel Llong          Vineet Kulkarni\n",
              "643   7901  IPL-2018  ...           A.D Deshmukh            C Shamshuddin\n",
              "644   7902  IPL-2018  ...            Nitin Menon               Rod Tucker\n",
              "645   7903  IPL-2018  ...         Anil Chaudhary           Chris Gaffaney\n",
              "646   7904  IPL-2018  ...                 S Ravi             A.D Deshmukh\n",
              "647   7905  IPL-2018  ...               O Nandan              Nigel Llong\n",
              "648   7906  IPL-2018  ...        A Nanda Kishore           Chris Gaffaney\n",
              "649   7907  IPL-2018  ...            Nitin Menon     K Ananthapadmanabhan\n",
              "650   7908  IPL-2018  ...           A.D Deshmukh            C Shamshuddin\n",
              "651   7909  IPL-2018  ...         Anil Chaudhary          Vineet Kulkarni\n",
              "652   7910  IPL-2018  ...   K Ananthapadmanabhan               Rod Tucker\n",
              "653   7911  IPL-2018  ...           A.D Deshmukh                   S Ravi\n",
              "654   7912  IPL-2018  ...               O Nandan          A Nanda Kishore\n",
              "655   7913  IPL-2018  ...        Vineet Kulkarni              Nigel Llong\n",
              "656   7914  IPL-2018  ...   K Ananthapadmanabhan              Nitin Menon\n",
              "657   7915  IPL-2018  ...        A Nanda Kishore           Chris Gaffaney\n",
              "658   7916  IPL-2018  ...                 S Ravi             A.D Deshmukh\n",
              "659   7917  IPL-2018  ...  Virender Kumar Sharma           Anil Chaudhary\n",
              "660   7918  IPL-2018  ...         Yeshwant Barde               Rod Tucker\n",
              "661   7919  IPL-2018  ...                 S Ravi          A Nanda Kishore\n",
              "662   7920  IPL-2018  ...            Nitin Menon            Anil Dandekar\n",
              "663   7921  IPL-2018  ...        A Nanda Kishore                   S Ravi\n",
              "664   7922  IPL-2018  ...         Anil Chaudhary    Virender Kumar Sharma\n",
              "665   7923  IPL-2018  ...          Anil Dandekar                 O Nandan\n",
              "666   7924  IPL-2018  ...            Nitin Menon           Yeshwant Barde\n",
              "667   7925  IPL-2018  ...  Virender Kumar Sharma           Bruce Oxenford\n",
              "668   7926  IPL-2018  ...           A.D Deshmukh           Anil Chaudhary\n",
              "669   7927  IPL-2018  ...          Anil Dandekar            C Shamshuddin\n",
              "670   7928  IPL-2018  ...         Yeshwant Barde           Marais Erasmus\n",
              "671   7929  IPL-2018  ...               O Nandan    Virender Kumar Sharma\n",
              "672   7930  IPL-2018  ...           A.D Deshmukh           Anil Chaudhary\n",
              "673   7931  IPL-2018  ...                 S Ravi            Anil Dandekar\n",
              "674   7932  IPL-2018  ...  Virender Kumar Sharma                 O Nandan\n",
              "675   7933  IPL-2018  ...            Nitin Menon           Yeshwant Barde\n",
              "676   7934  IPL-2018  ...   K Ananthapadmanabhan         Kumar Dharmasena\n",
              "677   7935  IPL-2018  ...          Anil Dandekar                   S Ravi\n",
              "678   7936  IPL-2018  ...         Yeshwant Barde              Nitin Menon\n",
              "679   7937  IPL-2018  ...  Virender Kumar Sharma           Bruce Oxenford\n",
              "680   7938  IPL-2018  ...         Anil Chaudhary     K Ananthapadmanabhan\n",
              "681   7939  IPL-2018  ...         Yeshwant Barde            Anil Dandekar\n",
              "682   7940  IPL-2018  ...                 S Ravi            C Shamshuddin\n",
              "683   7941  IPL-2018  ...  Virender Kumar Sharma                 O Nandan\n",
              "684   7942  IPL-2018  ...         Anil Chaudhary          Vineet Kulkarni\n",
              "685   7943  IPL-2018  ...            Nitin Menon           Yeshwant Barde\n",
              "686   7944  IPL-2018  ...          Anil Dandekar            C Shamshuddin\n",
              "687   7945  IPL-2018  ...        Vineet Kulkarni                 O Nandan\n",
              "688   7946  IPL-2018  ...  Virender Kumar Sharma            C Shamshuddin\n",
              "689   7947  IPL-2018  ...                 S Ravi            Anil Dandekar\n",
              "690   7948  IPL-2018  ...               O Nandan          Vineet Kulkarni\n",
              "691   7949  IPL-2018  ...         Yeshwant Barde           Marais Erasmus\n",
              "692   7950  IPL-2018  ...          C Shamshuddin                   S Ravi\n",
              "693   7951  IPL-2018  ...         Anil Chaudhary         Kumar Dharmasena\n",
              "694   7952  IPL-2018  ...       Kumar Dharmasena           Anil Chaudhary\n",
              "695   7953  IPL-2018  ...                 S Ravi              Nitin Menon\n",
              "696  11137  IPL-2019  ...          Anil Dandekar              Nitin Menon\n",
              "697  11138  IPL-2019  ...         Anil Chaudhary          Vineet Kulkarni\n",
              "698  11139  IPL-2019  ...         Yeshwant Barde                 O Nandan\n",
              "699  11140  IPL-2019  ...   KN Anantapadmanabhan           Bruce Oxenford\n",
              "700  11141  IPL-2019  ...            Nitin Menon            Anil Dandekar\n",
              "701  11142  IPL-2019  ...        Vineet Kulkarni           Chris Gaffaney\n",
              "702  11143  IPL-2019  ...               O Nandan           Yeshwant Barde\n",
              "703  11144  IPL-2019  ...          C Shamshuddin     KN Anantapadmanabhan\n",
              "704  11145  IPL-2019  ...         Chris Gaffaney           Anil Chaudhary\n",
              "705  11146  IPL-2019  ...            Nitin Menon           Marais Erasmus\n",
              "706  11147  IPL-2019  ...   KN Anantapadmanabhan            C Shamshuddin\n",
              "707  11148  IPL-2019  ...         Yeshwant Barde           Bruce Oxenford\n",
              "708  11149  IPL-2019  ...         Chris Gaffaney          Vineet Kulkarni\n",
              "709  11150  IPL-2019  ...          Anil Dandekar              Nitin Menon\n",
              "710  11151  IPL-2019  ...             Rod Tucker           Yeshwant Barde\n",
              "711  11152  IPL-2019  ...   KN Anantapadmanabhan                   S Ravi\n",
              "712  11153  IPL-2019  ...         Chris Gaffaney                 O Nandan\n",
              "713  11309  IPL-2019  ...             Rod Tucker            C Shamshuddin\n",
              "714  11310  IPL-2019  ...            Nitin Menon           Marais Erasmus\n",
              "715  11311  IPL-2019  ...         Yeshwant Barde                 O Nandan\n",
              "716  11312  IPL-2019  ...         Anil Chaudhary           Bruce Oxenford\n",
              "717  11313  IPL-2019  ...          Anil Dandekar              Nitin Menon\n",
              "718  11314  IPL-2019  ...          C Shamshuddin             Ulhas Gandhe\n",
              "719  11315  IPL-2019  ...                 S Ravi                 O Nandan\n",
              "720  11316  IPL-2019  ...           Ulhas Gandhe           Chris Gaffaney\n",
              "721  11317  IPL-2019  ...               O Nandan               Rod Tucker\n",
              "722  11318  IPL-2019  ...          Nanda Kishore           Marais Erasmus\n",
              "723  11319  IPL-2019  ...           Ulhas Gandhe              Nigel Llong\n",
              "724  11320  IPL-2019  ...               O Nandan           Yeshwant Barde\n",
              "725  11321  IPL-2019  ...         Bruce Oxenford           Chris Gaffaney\n",
              "726  11322  IPL-2019  ...            Nitin Menon            Nanda Kishore\n",
              "727  11323  IPL-2019  ...        Vineet Kulkarni                   S Ravi\n",
              "728  11324  IPL-2019  ...           Ulhas Gandhe            C Shamshuddin\n",
              "729  11325  IPL-2019  ...         Bruce Oxenford           Anil Chaudhary\n",
              "730  11326  IPL-2019  ...            Nitin Menon            Anil Dandekar\n",
              "731  11327  IPL-2019  ...         Yeshwant Barde                 O Nandan\n",
              "732  11328  IPL-2019  ...          C Shamshuddin           Bruce Oxenford\n",
              "733  11329  IPL-2019  ...            Nigel Llong                Ian Gould\n",
              "734  11330  IPL-2019  ...             Rod Tucker           Anil Chaudhary\n",
              "735  11331  IPL-2019  ...          Nanda Kishore           Yeshwant Barde\n",
              "736  11332  IPL-2019  ...         Anil Chaudhary          Vineet Kulkarni\n",
              "737  11333  IPL-2019  ...          C Shamshuddin               Rod Tucker\n",
              "738  11334  IPL-2019  ...          Anil Dandekar              Nitin Menon\n",
              "739  11335  IPL-2019  ...         Anil Chaudhary          Vineet Kulkarni\n",
              "740  11336  IPL-2019  ...           Nand Kishore            Sundaram Ravi\n",
              "741  11337  IPL-2019  ...  KN Ananthapadmanabhan            C Shamshuddin\n",
              "742  11338  IPL-2019  ...            Nitin Menon            Anil Dandekar\n",
              "743  11339  IPL-2019  ...               O Nandan            Nanda Kishore\n",
              "744  11340  IPL-2019  ...           Ulhas Gandhe           Anil Chaudhary\n",
              "745  11341  IPL-2019  ...            Nitin Menon                Ian Gould\n",
              "746  11342  IPL-2019  ...               O Nandan            Nanda Kishore\n",
              "747  11343  IPL-2019  ...          C Shamshuddin    KN Ananthapadmanabhan\n",
              "748  11344  IPL-2019  ...          Anil Dandekar              Nitin Menon\n",
              "749  11345  IPL-2019  ...         Anil Chaudhary             Ulhas Gandhe\n",
              "750  11346  IPL-2019  ...          C Shamshuddin           Bruce Oxenford\n",
              "751  11347  IPL-2019  ...               O Nandan                   S Ravi\n",
              "752  11412  IPL-2019  ...            Nitin Menon                Ian Gould\n",
              "753  11413  IPL-2019  ...                    NaN                      NaN\n",
              "754  11414  IPL-2019  ...         Bruce Oxenford  Chettithody Shamshuddin\n",
              "755  11415  IPL-2019  ...              Ian Gould              Nigel Llong\n",
              "\n",
              "[756 rows x 18 columns]>"
            ]
          },
          "metadata": {
            "tags": []
          },
          "execution_count": 64
        }
      ]
    },
    {
      "cell_type": "markdown",
      "metadata": {
        "id": "C5eoghs0POPp"
      },
      "source": [
        "**Name of all the columns (labels)**"
      ]
    },
    {
      "cell_type": "code",
      "metadata": {
        "colab": {
          "base_uri": "https://localhost:8080/"
        },
        "id": "BxegQjEiOkkM",
        "outputId": "64084713-b872-4887-bf25-33cfd391883b"
      },
      "source": [
        "ipl_data.columns"
      ],
      "execution_count": null,
      "outputs": [
        {
          "output_type": "execute_result",
          "data": {
            "text/plain": [
              "Index(['id', 'Season', 'city', 'date', 'team1', 'team2', 'toss_winner',\n",
              "       'toss_decision', 'result', 'dl_applied', 'winner', 'win_by_runs',\n",
              "       'win_by_wickets', 'player_of_match', 'venue', 'umpire1', 'umpire2',\n",
              "       'umpire3'],\n",
              "      dtype='object')"
            ]
          },
          "metadata": {
            "tags": []
          },
          "execution_count": 9
        }
      ]
    },
    {
      "cell_type": "markdown",
      "metadata": {
        "id": "bERNLGaXP4Vc"
      },
      "source": [
        "**DATA PRE-PROCESSING: FINDING OUT NaN VALUES**"
      ]
    },
    {
      "cell_type": "code",
      "metadata": {
        "colab": {
          "base_uri": "https://localhost:8080/",
          "height": 438
        },
        "id": "WvCGJP2OeIPu",
        "outputId": "7ac418ab-1848-4a66-e406-b3d8a47dfac3"
      },
      "source": [
        "ipl_data.isna()"
      ],
      "execution_count": null,
      "outputs": [
        {
          "output_type": "execute_result",
          "data": {
            "text/html": [
              "<div>\n",
              "<style scoped>\n",
              "    .dataframe tbody tr th:only-of-type {\n",
              "        vertical-align: middle;\n",
              "    }\n",
              "\n",
              "    .dataframe tbody tr th {\n",
              "        vertical-align: top;\n",
              "    }\n",
              "\n",
              "    .dataframe thead th {\n",
              "        text-align: right;\n",
              "    }\n",
              "</style>\n",
              "<table border=\"1\" class=\"dataframe\">\n",
              "  <thead>\n",
              "    <tr style=\"text-align: right;\">\n",
              "      <th></th>\n",
              "      <th>id</th>\n",
              "      <th>Season</th>\n",
              "      <th>city</th>\n",
              "      <th>date</th>\n",
              "      <th>team1</th>\n",
              "      <th>team2</th>\n",
              "      <th>toss_winner</th>\n",
              "      <th>toss_decision</th>\n",
              "      <th>result</th>\n",
              "      <th>dl_applied</th>\n",
              "      <th>winner</th>\n",
              "      <th>win_by_runs</th>\n",
              "      <th>win_by_wickets</th>\n",
              "      <th>player_of_match</th>\n",
              "      <th>venue</th>\n",
              "      <th>umpire1</th>\n",
              "      <th>umpire2</th>\n",
              "      <th>umpire3</th>\n",
              "    </tr>\n",
              "  </thead>\n",
              "  <tbody>\n",
              "    <tr>\n",
              "      <th>0</th>\n",
              "      <td>False</td>\n",
              "      <td>False</td>\n",
              "      <td>False</td>\n",
              "      <td>False</td>\n",
              "      <td>False</td>\n",
              "      <td>False</td>\n",
              "      <td>False</td>\n",
              "      <td>False</td>\n",
              "      <td>False</td>\n",
              "      <td>False</td>\n",
              "      <td>False</td>\n",
              "      <td>False</td>\n",
              "      <td>False</td>\n",
              "      <td>False</td>\n",
              "      <td>False</td>\n",
              "      <td>False</td>\n",
              "      <td>False</td>\n",
              "      <td>True</td>\n",
              "    </tr>\n",
              "    <tr>\n",
              "      <th>1</th>\n",
              "      <td>False</td>\n",
              "      <td>False</td>\n",
              "      <td>False</td>\n",
              "      <td>False</td>\n",
              "      <td>False</td>\n",
              "      <td>False</td>\n",
              "      <td>False</td>\n",
              "      <td>False</td>\n",
              "      <td>False</td>\n",
              "      <td>False</td>\n",
              "      <td>False</td>\n",
              "      <td>False</td>\n",
              "      <td>False</td>\n",
              "      <td>False</td>\n",
              "      <td>False</td>\n",
              "      <td>False</td>\n",
              "      <td>False</td>\n",
              "      <td>True</td>\n",
              "    </tr>\n",
              "    <tr>\n",
              "      <th>2</th>\n",
              "      <td>False</td>\n",
              "      <td>False</td>\n",
              "      <td>False</td>\n",
              "      <td>False</td>\n",
              "      <td>False</td>\n",
              "      <td>False</td>\n",
              "      <td>False</td>\n",
              "      <td>False</td>\n",
              "      <td>False</td>\n",
              "      <td>False</td>\n",
              "      <td>False</td>\n",
              "      <td>False</td>\n",
              "      <td>False</td>\n",
              "      <td>False</td>\n",
              "      <td>False</td>\n",
              "      <td>False</td>\n",
              "      <td>False</td>\n",
              "      <td>True</td>\n",
              "    </tr>\n",
              "    <tr>\n",
              "      <th>3</th>\n",
              "      <td>False</td>\n",
              "      <td>False</td>\n",
              "      <td>False</td>\n",
              "      <td>False</td>\n",
              "      <td>False</td>\n",
              "      <td>False</td>\n",
              "      <td>False</td>\n",
              "      <td>False</td>\n",
              "      <td>False</td>\n",
              "      <td>False</td>\n",
              "      <td>False</td>\n",
              "      <td>False</td>\n",
              "      <td>False</td>\n",
              "      <td>False</td>\n",
              "      <td>False</td>\n",
              "      <td>False</td>\n",
              "      <td>False</td>\n",
              "      <td>True</td>\n",
              "    </tr>\n",
              "    <tr>\n",
              "      <th>4</th>\n",
              "      <td>False</td>\n",
              "      <td>False</td>\n",
              "      <td>False</td>\n",
              "      <td>False</td>\n",
              "      <td>False</td>\n",
              "      <td>False</td>\n",
              "      <td>False</td>\n",
              "      <td>False</td>\n",
              "      <td>False</td>\n",
              "      <td>False</td>\n",
              "      <td>False</td>\n",
              "      <td>False</td>\n",
              "      <td>False</td>\n",
              "      <td>False</td>\n",
              "      <td>False</td>\n",
              "      <td>True</td>\n",
              "      <td>True</td>\n",
              "      <td>True</td>\n",
              "    </tr>\n",
              "    <tr>\n",
              "      <th>...</th>\n",
              "      <td>...</td>\n",
              "      <td>...</td>\n",
              "      <td>...</td>\n",
              "      <td>...</td>\n",
              "      <td>...</td>\n",
              "      <td>...</td>\n",
              "      <td>...</td>\n",
              "      <td>...</td>\n",
              "      <td>...</td>\n",
              "      <td>...</td>\n",
              "      <td>...</td>\n",
              "      <td>...</td>\n",
              "      <td>...</td>\n",
              "      <td>...</td>\n",
              "      <td>...</td>\n",
              "      <td>...</td>\n",
              "      <td>...</td>\n",
              "      <td>...</td>\n",
              "    </tr>\n",
              "    <tr>\n",
              "      <th>751</th>\n",
              "      <td>False</td>\n",
              "      <td>False</td>\n",
              "      <td>False</td>\n",
              "      <td>False</td>\n",
              "      <td>False</td>\n",
              "      <td>False</td>\n",
              "      <td>False</td>\n",
              "      <td>False</td>\n",
              "      <td>False</td>\n",
              "      <td>False</td>\n",
              "      <td>False</td>\n",
              "      <td>False</td>\n",
              "      <td>False</td>\n",
              "      <td>False</td>\n",
              "      <td>False</td>\n",
              "      <td>False</td>\n",
              "      <td>False</td>\n",
              "      <td>False</td>\n",
              "    </tr>\n",
              "    <tr>\n",
              "      <th>752</th>\n",
              "      <td>False</td>\n",
              "      <td>False</td>\n",
              "      <td>False</td>\n",
              "      <td>False</td>\n",
              "      <td>False</td>\n",
              "      <td>False</td>\n",
              "      <td>False</td>\n",
              "      <td>False</td>\n",
              "      <td>False</td>\n",
              "      <td>False</td>\n",
              "      <td>False</td>\n",
              "      <td>False</td>\n",
              "      <td>False</td>\n",
              "      <td>False</td>\n",
              "      <td>False</td>\n",
              "      <td>False</td>\n",
              "      <td>False</td>\n",
              "      <td>False</td>\n",
              "    </tr>\n",
              "    <tr>\n",
              "      <th>753</th>\n",
              "      <td>False</td>\n",
              "      <td>False</td>\n",
              "      <td>False</td>\n",
              "      <td>False</td>\n",
              "      <td>False</td>\n",
              "      <td>False</td>\n",
              "      <td>False</td>\n",
              "      <td>False</td>\n",
              "      <td>False</td>\n",
              "      <td>False</td>\n",
              "      <td>False</td>\n",
              "      <td>False</td>\n",
              "      <td>False</td>\n",
              "      <td>False</td>\n",
              "      <td>False</td>\n",
              "      <td>True</td>\n",
              "      <td>True</td>\n",
              "      <td>True</td>\n",
              "    </tr>\n",
              "    <tr>\n",
              "      <th>754</th>\n",
              "      <td>False</td>\n",
              "      <td>False</td>\n",
              "      <td>False</td>\n",
              "      <td>False</td>\n",
              "      <td>False</td>\n",
              "      <td>False</td>\n",
              "      <td>False</td>\n",
              "      <td>False</td>\n",
              "      <td>False</td>\n",
              "      <td>False</td>\n",
              "      <td>False</td>\n",
              "      <td>False</td>\n",
              "      <td>False</td>\n",
              "      <td>False</td>\n",
              "      <td>False</td>\n",
              "      <td>False</td>\n",
              "      <td>False</td>\n",
              "      <td>False</td>\n",
              "    </tr>\n",
              "    <tr>\n",
              "      <th>755</th>\n",
              "      <td>False</td>\n",
              "      <td>False</td>\n",
              "      <td>False</td>\n",
              "      <td>False</td>\n",
              "      <td>False</td>\n",
              "      <td>False</td>\n",
              "      <td>False</td>\n",
              "      <td>False</td>\n",
              "      <td>False</td>\n",
              "      <td>False</td>\n",
              "      <td>False</td>\n",
              "      <td>False</td>\n",
              "      <td>False</td>\n",
              "      <td>False</td>\n",
              "      <td>False</td>\n",
              "      <td>False</td>\n",
              "      <td>False</td>\n",
              "      <td>False</td>\n",
              "    </tr>\n",
              "  </tbody>\n",
              "</table>\n",
              "<p>756 rows × 18 columns</p>\n",
              "</div>"
            ],
            "text/plain": [
              "        id  Season   city   date  ...  venue  umpire1  umpire2  umpire3\n",
              "0    False   False  False  False  ...  False    False    False     True\n",
              "1    False   False  False  False  ...  False    False    False     True\n",
              "2    False   False  False  False  ...  False    False    False     True\n",
              "3    False   False  False  False  ...  False    False    False     True\n",
              "4    False   False  False  False  ...  False     True     True     True\n",
              "..     ...     ...    ...    ...  ...    ...      ...      ...      ...\n",
              "751  False   False  False  False  ...  False    False    False    False\n",
              "752  False   False  False  False  ...  False    False    False    False\n",
              "753  False   False  False  False  ...  False     True     True     True\n",
              "754  False   False  False  False  ...  False    False    False    False\n",
              "755  False   False  False  False  ...  False    False    False    False\n",
              "\n",
              "[756 rows x 18 columns]"
            ]
          },
          "metadata": {
            "tags": []
          },
          "execution_count": 17
        }
      ]
    },
    {
      "cell_type": "code",
      "metadata": {
        "colab": {
          "base_uri": "https://localhost:8080/"
        },
        "id": "GmyTjXN6O0wl",
        "outputId": "cffa2d14-f1ad-495f-8592-34813b32dfba"
      },
      "source": [
        "ipl_data.isna().any()    #true- when it has NaN values"
      ],
      "execution_count": null,
      "outputs": [
        {
          "output_type": "execute_result",
          "data": {
            "text/plain": [
              "id                 False\n",
              "Season             False\n",
              "city                True\n",
              "date               False\n",
              "team1              False\n",
              "team2              False\n",
              "toss_winner        False\n",
              "toss_decision      False\n",
              "result             False\n",
              "dl_applied         False\n",
              "winner              True\n",
              "win_by_runs        False\n",
              "win_by_wickets     False\n",
              "player_of_match     True\n",
              "venue              False\n",
              "umpire1             True\n",
              "umpire2             True\n",
              "umpire3             True\n",
              "dtype: bool"
            ]
          },
          "metadata": {
            "tags": []
          },
          "execution_count": 18
        }
      ]
    },
    {
      "cell_type": "markdown",
      "metadata": {
        "id": "3YDIA2yDQrY4"
      },
      "source": [
        "**Statistical description of Dataset**"
      ]
    },
    {
      "cell_type": "code",
      "metadata": {
        "colab": {
          "base_uri": "https://localhost:8080/",
          "height": 296
        },
        "id": "AJXAJwBEQoPh",
        "outputId": "6b26d3d4-ba47-445b-cf89-485ba07a96cf"
      },
      "source": [
        "ipl_data.describe() # no.ofcolums, mean, standard deviation, min, quartile ranges"
      ],
      "execution_count": null,
      "outputs": [
        {
          "output_type": "execute_result",
          "data": {
            "text/html": [
              "<div>\n",
              "<style scoped>\n",
              "    .dataframe tbody tr th:only-of-type {\n",
              "        vertical-align: middle;\n",
              "    }\n",
              "\n",
              "    .dataframe tbody tr th {\n",
              "        vertical-align: top;\n",
              "    }\n",
              "\n",
              "    .dataframe thead th {\n",
              "        text-align: right;\n",
              "    }\n",
              "</style>\n",
              "<table border=\"1\" class=\"dataframe\">\n",
              "  <thead>\n",
              "    <tr style=\"text-align: right;\">\n",
              "      <th></th>\n",
              "      <th>id</th>\n",
              "      <th>dl_applied</th>\n",
              "      <th>win_by_runs</th>\n",
              "      <th>win_by_wickets</th>\n",
              "    </tr>\n",
              "  </thead>\n",
              "  <tbody>\n",
              "    <tr>\n",
              "      <th>count</th>\n",
              "      <td>756.000000</td>\n",
              "      <td>756.000000</td>\n",
              "      <td>756.000000</td>\n",
              "      <td>756.000000</td>\n",
              "    </tr>\n",
              "    <tr>\n",
              "      <th>mean</th>\n",
              "      <td>1792.178571</td>\n",
              "      <td>0.025132</td>\n",
              "      <td>13.283069</td>\n",
              "      <td>3.350529</td>\n",
              "    </tr>\n",
              "    <tr>\n",
              "      <th>std</th>\n",
              "      <td>3464.478148</td>\n",
              "      <td>0.156630</td>\n",
              "      <td>23.471144</td>\n",
              "      <td>3.387963</td>\n",
              "    </tr>\n",
              "    <tr>\n",
              "      <th>min</th>\n",
              "      <td>1.000000</td>\n",
              "      <td>0.000000</td>\n",
              "      <td>0.000000</td>\n",
              "      <td>0.000000</td>\n",
              "    </tr>\n",
              "    <tr>\n",
              "      <th>25%</th>\n",
              "      <td>189.750000</td>\n",
              "      <td>0.000000</td>\n",
              "      <td>0.000000</td>\n",
              "      <td>0.000000</td>\n",
              "    </tr>\n",
              "    <tr>\n",
              "      <th>50%</th>\n",
              "      <td>378.500000</td>\n",
              "      <td>0.000000</td>\n",
              "      <td>0.000000</td>\n",
              "      <td>4.000000</td>\n",
              "    </tr>\n",
              "    <tr>\n",
              "      <th>75%</th>\n",
              "      <td>567.250000</td>\n",
              "      <td>0.000000</td>\n",
              "      <td>19.000000</td>\n",
              "      <td>6.000000</td>\n",
              "    </tr>\n",
              "    <tr>\n",
              "      <th>max</th>\n",
              "      <td>11415.000000</td>\n",
              "      <td>1.000000</td>\n",
              "      <td>146.000000</td>\n",
              "      <td>10.000000</td>\n",
              "    </tr>\n",
              "  </tbody>\n",
              "</table>\n",
              "</div>"
            ],
            "text/plain": [
              "                 id  dl_applied  win_by_runs  win_by_wickets\n",
              "count    756.000000  756.000000   756.000000      756.000000\n",
              "mean    1792.178571    0.025132    13.283069        3.350529\n",
              "std     3464.478148    0.156630    23.471144        3.387963\n",
              "min        1.000000    0.000000     0.000000        0.000000\n",
              "25%      189.750000    0.000000     0.000000        0.000000\n",
              "50%      378.500000    0.000000     0.000000        4.000000\n",
              "75%      567.250000    0.000000    19.000000        6.000000\n",
              "max    11415.000000    1.000000   146.000000       10.000000"
            ]
          },
          "metadata": {
            "tags": []
          },
          "execution_count": 12
        }
      ]
    },
    {
      "cell_type": "markdown",
      "metadata": {
        "id": "Ko4fnZ-3RH3z"
      },
      "source": [
        "**How many matches in total were played according to the dataset?**"
      ]
    },
    {
      "cell_type": "code",
      "metadata": {
        "colab": {
          "base_uri": "https://localhost:8080/"
        },
        "id": "dpqogGrOQcpK",
        "outputId": "23e6d10c-c0ae-469d-dbf4-1fd111ba9f47"
      },
      "source": [
        "ipl_data['id'].count()"
      ],
      "execution_count": null,
      "outputs": [
        {
          "output_type": "execute_result",
          "data": {
            "text/plain": [
              "756"
            ]
          },
          "metadata": {
            "tags": []
          },
          "execution_count": 13
        }
      ]
    },
    {
      "cell_type": "markdown",
      "metadata": {
        "id": "jRqC91fWRZsM"
      },
      "source": [
        "**How many IPL seasons to analyse?**"
      ]
    },
    {
      "cell_type": "code",
      "metadata": {
        "colab": {
          "base_uri": "https://localhost:8080/"
        },
        "id": "C-QkcWIyRWfF",
        "outputId": "0f3de3ec-2ac4-4dba-d5c5-56ebf22782a1"
      },
      "source": [
        "ipl_data['Season'].unique()"
      ],
      "execution_count": null,
      "outputs": [
        {
          "output_type": "execute_result",
          "data": {
            "text/plain": [
              "array(['IPL-2017', 'IPL-2008', 'IPL-2009', 'IPL-2010', 'IPL-2011',\n",
              "       'IPL-2012', 'IPL-2013', 'IPL-2014', 'IPL-2015', 'IPL-2016',\n",
              "       'IPL-2018', 'IPL-2019'], dtype=object)"
            ]
          },
          "metadata": {
            "tags": []
          },
          "execution_count": 16
        }
      ]
    },
    {
      "cell_type": "markdown",
      "metadata": {
        "id": "EUaTyXjjf-Og"
      },
      "source": [
        "**Which IPL team won by scoring the maximum runs?**"
      ]
    },
    {
      "cell_type": "code",
      "metadata": {
        "colab": {
          "base_uri": "https://localhost:8080/"
        },
        "id": "Qz3xUeFwRloK",
        "outputId": "9ff4d0f7-3191-4a2c-c9ab-80bc1872720c"
      },
      "source": [
        "ipl_data.iloc[ipl_data['win_by_runs'].idxmax()] #max win_by_runs in the column"
      ],
      "execution_count": null,
      "outputs": [
        {
          "output_type": "execute_result",
          "data": {
            "text/plain": [
              "id                               44\n",
              "Season                     IPL-2017\n",
              "city                          Delhi\n",
              "date                     06-05-2017\n",
              "team1                Mumbai Indians\n",
              "team2              Delhi Daredevils\n",
              "toss_winner        Delhi Daredevils\n",
              "toss_decision                 field\n",
              "result                       normal\n",
              "dl_applied                        0\n",
              "winner               Mumbai Indians\n",
              "win_by_runs                     146\n",
              "win_by_wickets                    0\n",
              "player_of_match         LMP Simmons\n",
              "venue              Feroz Shah Kotla\n",
              "umpire1                 Nitin Menon\n",
              "umpire2                   CK Nandan\n",
              "umpire3                         NaN\n",
              "Name: 43, dtype: object"
            ]
          },
          "metadata": {
            "tags": []
          },
          "execution_count": 21
        }
      ]
    },
    {
      "cell_type": "markdown",
      "metadata": {
        "id": "URM7aZkygsA0"
      },
      "source": [
        "**Which IPL team won by consuming maximum wickets?**"
      ]
    },
    {
      "cell_type": "code",
      "metadata": {
        "colab": {
          "base_uri": "https://localhost:8080/"
        },
        "id": "YXVSnspkgq__",
        "outputId": "7fa2f1f5-e797-4cee-965f-d254ef679d41"
      },
      "source": [
        "ipl_data.iloc[ipl_data['win_by_wickets'].idxmax()]"
      ],
      "execution_count": null,
      "outputs": [
        {
          "output_type": "execute_result",
          "data": {
            "text/plain": [
              "id                                                      3\n",
              "Season                                           IPL-2017\n",
              "city                                               Rajkot\n",
              "date                                           07-04-2017\n",
              "team1                                       Gujarat Lions\n",
              "team2                               Kolkata Knight Riders\n",
              "toss_winner                         Kolkata Knight Riders\n",
              "toss_decision                                       field\n",
              "result                                             normal\n",
              "dl_applied                                              0\n",
              "winner                              Kolkata Knight Riders\n",
              "win_by_runs                                             0\n",
              "win_by_wickets                                         10\n",
              "player_of_match                                   CA Lynn\n",
              "venue              Saurashtra Cricket Association Stadium\n",
              "umpire1                                       Nitin Menon\n",
              "umpire2                                         CK Nandan\n",
              "umpire3                                               NaN\n",
              "Name: 2, dtype: object"
            ]
          },
          "metadata": {
            "tags": []
          },
          "execution_count": 22
        }
      ]
    },
    {
      "cell_type": "markdown",
      "metadata": {
        "id": "b8PYK3xoiC5r"
      },
      "source": [
        "**Which IPL team won by taking minimum wickets?**"
      ]
    },
    {
      "cell_type": "code",
      "metadata": {
        "colab": {
          "base_uri": "https://localhost:8080/"
        },
        "id": "RR9an0BAgaPJ",
        "outputId": "f657a968-cb99-4749-fe8a-4765f7550b62"
      },
      "source": [
        "ipl_data.iloc[ipl_data['win_by_wickets'].idxmin()]"
      ],
      "execution_count": null,
      "outputs": [
        {
          "output_type": "execute_result",
          "data": {
            "text/plain": [
              "id                                                         1\n",
              "Season                                              IPL-2017\n",
              "city                                               Hyderabad\n",
              "date                                              05-04-2017\n",
              "team1                                    Sunrisers Hyderabad\n",
              "team2                            Royal Challengers Bangalore\n",
              "toss_winner                      Royal Challengers Bangalore\n",
              "toss_decision                                          field\n",
              "result                                                normal\n",
              "dl_applied                                                 0\n",
              "winner                                   Sunrisers Hyderabad\n",
              "win_by_runs                                               35\n",
              "win_by_wickets                                             0\n",
              "player_of_match                                 Yuvraj Singh\n",
              "venue              Rajiv Gandhi International Stadium, Uppal\n",
              "umpire1                                          AY Dandekar\n",
              "umpire2                                             NJ Llong\n",
              "umpire3                                                  NaN\n",
              "Name: 0, dtype: object"
            ]
          },
          "metadata": {
            "tags": []
          },
          "execution_count": 24
        }
      ]
    },
    {
      "cell_type": "markdown",
      "metadata": {
        "id": "atGk1Sk4i7vh"
      },
      "source": [
        "**Which season consisted of the highest number of matches ever played?**"
      ]
    },
    {
      "cell_type": "code",
      "metadata": {
        "colab": {
          "base_uri": "https://localhost:8080/",
          "height": 217
        },
        "id": "q2pXTqsMiN-H",
        "outputId": "4988ea66-dd4f-4db3-a430-fa9400889463"
      },
      "source": [
        "fig_dims=(20,4)\n",
        "fig,ax= plt.subplots(figsize=fig_dims)\n",
        "sns.countplot(x='Season',ax=ax,data=ipl_data)\n",
        "plt.show()"
      ],
      "execution_count": null,
      "outputs": [
        {
          "output_type": "display_data",
          "data": {
            "image/png": "[encoded data removed]",
            "text/plain": [
              "<Figure size 1440x288 with 1 Axes>"
            ]
          },
          "metadata": {
            "tags": [],
            "needs_background": "light"
          }
        }
      ]
    },
    {
      "cell_type": "markdown",
      "metadata": {
        "id": "86QxrGvom2jA"
      },
      "source": [
        "**What is the most successful IPL team with all the data at hand?**"
      ]
    },
    {
      "cell_type": "code",
      "metadata": {
        "colab": {
          "base_uri": "https://localhost:8080/",
          "height": 297
        },
        "id": "NXAL9tIbq3Ck",
        "outputId": "d028a5c6-c1a8-445a-caca-ba1d53d24e7b"
      },
      "source": [
        "ipl_data1=ipl_data.winner.value_counts()\n",
        "sns.barplot(y=ipl_data1.index, x=ipl_data1)"
      ],
      "execution_count": null,
      "outputs": [
        {
          "output_type": "execute_result",
          "data": {
            "text/plain": [
              "<matplotlib.axes._subplots.AxesSubplot at 0x7f195dcb4b10>"
            ]
          },
          "metadata": {
            "tags": []
          },
          "execution_count": 48
        },
        {
          "output_type": "display_data",
          "data": {
            "image/png": "[encoded data removed]",
            "text/plain": [
              "<Figure size 432x288 with 1 Axes>"
            ]
          },
          "metadata": {
            "tags": [],
            "needs_background": "light"
          }
        }
      ]
    },
    {
      "cell_type": "code",
      "metadata": {
        "colab": {
          "base_uri": "https://localhost:8080/",
          "height": 297
        },
        "id": "Ylr2-6Y-l3_e",
        "outputId": "17c8ab7f-cfbb-4dcc-9fa2-7923dfa16646"
      },
      "source": [
        "ipl_data2= ipl_data.winner.value_counts(ascending=True) #in ascending order\n",
        "sns.barplot(y=ipl_data1.index, x=ipl_data2)"
      ],
      "execution_count": null,
      "outputs": [
        {
          "output_type": "execute_result",
          "data": {
            "text/plain": [
              "<matplotlib.axes._subplots.AxesSubplot at 0x7f195dee3590>"
            ]
          },
          "metadata": {
            "tags": []
          },
          "execution_count": 49
        },
        {
          "output_type": "display_data",
          "data": {
            "image/png": "[encoded data removed]",
            "text/plain": [
              "<Figure size 432x288 with 1 Axes>"
            ]
          },
          "metadata": {
            "tags": [],
            "needs_background": "light"
          }
        }
      ]
    },
    {
      "cell_type": "markdown",
      "metadata": {
        "id": "dlqBMIq7rY4u"
      },
      "source": [
        "**What is the probability of winning a match if the toss was won?**"
      ]
    },
    {
      "cell_type": "code",
      "metadata": {
        "colab": {
          "base_uri": "https://localhost:8080/"
        },
        "id": "X6ftj1_morPd",
        "outputId": "0a3df27e-0f09-4452-ec03-3fa82fc4558b"
      },
      "source": [
        "probability_of_win= ipl_data['toss_winner'] == ipl_data['winner']\n",
        "probability_of_win.groupby(probability_of_win).size()"
      ],
      "execution_count": null,
      "outputs": [
        {
          "output_type": "execute_result",
          "data": {
            "text/plain": [
              "False    363\n",
              "True     393\n",
              "dtype: int64"
            ]
          },
          "metadata": {
            "tags": []
          },
          "execution_count": 53
        }
      ]
    },
    {
      "cell_type": "code",
      "metadata": {
        "colab": {
          "base_uri": "https://localhost:8080/",
          "height": 338
        },
        "id": "x0xB7QzJsU4d",
        "outputId": "63b9228f-86ad-42b7-c100-cc9d87e78386"
      },
      "source": [
        "sns.countplot(probability_of_win)"
      ],
      "execution_count": null,
      "outputs": [
        {
          "output_type": "stream",
          "text": [
            "/usr/local/lib/python3.7/dist-packages/seaborn/_decorators.py:43: FutureWarning: Pass the following variable as a keyword arg: x. From version 0.12, the only valid positional argument will be `data`, and passing other arguments without an explicit keyword will result in an error or misinterpretation.\n",
            "  FutureWarning\n"
          ],
          "name": "stderr"
        },
        {
          "output_type": "execute_result",
          "data": {
            "text/plain": [
              "<matplotlib.axes._subplots.AxesSubplot at 0x7f195d01ed10>"
            ]
          },
          "metadata": {
            "tags": []
          },
          "execution_count": 51
        },
        {
          "output_type": "display_data",
          "data": {
            "image/png": "[encoded data removed]",
            "text/plain": [
              "<Figure size 432x288 with 1 Axes>"
            ]
          },
          "metadata": {
            "tags": [],
            "needs_background": "light"
          }
        }
      ]
    },
    {
      "cell_type": "markdown",
      "metadata": {
        "id": "wjcujS_6sqBp"
      },
      "source": [
        "**Setting a higher row width**"
      ]
    },
    {
      "cell_type": "code",
      "metadata": {
        "colab": {
          "base_uri": "https://localhost:8080/"
        },
        "id": "jWj_PCDasdTK",
        "outputId": "ae927cae-690b-4e32-93ba-513067fd4df1"
      },
      "source": [
        "pd.set_option('max_rows',99999)\n",
        "pd.set_option('max_colwidth',400)\n",
        "pd.describe_option('max_colwidth')"
      ],
      "execution_count": null,
      "outputs": [
        {
          "output_type": "stream",
          "text": [
            "display.max_colwidth : int or None\n",
            "    The maximum width in characters of a column in the repr of\n",
            "    a pandas data structure. When the column overflows, a \"...\"\n",
            "    placeholder is embedded in the output. A 'None' value means unlimited.\n",
            "    [default: 50] [currently: 400]\n"
          ],
          "name": "stdout"
        }
      ]
    },
    {
      "cell_type": "markdown",
      "metadata": {
        "id": "m6hySYCUtgj3"
      },
      "source": [
        "**Highest wins by teams per season**"
      ]
    },
    {
      "cell_type": "code",
      "metadata": {
        "colab": {
          "base_uri": "https://localhost:8080/"
        },
        "id": "UTXRCouns5sJ",
        "outputId": "e8f8a297-c15e-4942-828a-d9e624b76879"
      },
      "source": [
        "ipl_data.groupby('Season')['winner'].value_counts()"
      ],
      "execution_count": null,
      "outputs": [
        {
          "output_type": "execute_result",
          "data": {
            "text/plain": [
              "Season    winner                     \n",
              "IPL-2008  Rajasthan Royals               13\n",
              "          Kings XI Punjab                10\n",
              "          Chennai Super Kings             9\n",
              "          Delhi Daredevils                7\n",
              "          Mumbai Indians                  7\n",
              "          Kolkata Knight Riders           6\n",
              "          Royal Challengers Bangalore     4\n",
              "          Deccan Chargers                 2\n",
              "IPL-2009  Delhi Daredevils               10\n",
              "          Deccan Chargers                 9\n",
              "          Royal Challengers Bangalore     9\n",
              "          Chennai Super Kings             8\n",
              "          Kings XI Punjab                 7\n",
              "          Rajasthan Royals                6\n",
              "          Mumbai Indians                  5\n",
              "          Kolkata Knight Riders           3\n",
              "IPL-2010  Mumbai Indians                 11\n",
              "          Chennai Super Kings             9\n",
              "          Deccan Chargers                 8\n",
              "          Royal Challengers Bangalore     8\n",
              "          Delhi Daredevils                7\n",
              "          Kolkata Knight Riders           7\n",
              "          Rajasthan Royals                6\n",
              "          Kings XI Punjab                 4\n",
              "IPL-2011  Chennai Super Kings            11\n",
              "          Mumbai Indians                 10\n",
              "          Royal Challengers Bangalore    10\n",
              "          Kolkata Knight Riders           8\n",
              "          Kings XI Punjab                 7\n",
              "          Deccan Chargers                 6\n",
              "          Kochi Tuskers Kerala            6\n",
              "          Rajasthan Royals                6\n",
              "          Delhi Daredevils                4\n",
              "          Pune Warriors                   4\n",
              "IPL-2012  Kolkata Knight Riders          12\n",
              "          Delhi Daredevils               11\n",
              "          Chennai Super Kings            10\n",
              "          Mumbai Indians                 10\n",
              "          Kings XI Punjab                 8\n",
              "          Royal Challengers Bangalore     8\n",
              "          Rajasthan Royals                7\n",
              "          Deccan Chargers                 4\n",
              "          Pune Warriors                   4\n",
              "IPL-2013  Mumbai Indians                 13\n",
              "          Chennai Super Kings            12\n",
              "          Rajasthan Royals               11\n",
              "          Sunrisers Hyderabad            10\n",
              "          Royal Challengers Bangalore     9\n",
              "          Kings XI Punjab                 8\n",
              "          Kolkata Knight Riders           6\n",
              "          Pune Warriors                   4\n",
              "          Delhi Daredevils                3\n",
              "IPL-2014  Kings XI Punjab                12\n",
              "          Kolkata Knight Riders          11\n",
              "          Chennai Super Kings            10\n",
              "          Mumbai Indians                  7\n",
              "          Rajasthan Royals                7\n",
              "          Sunrisers Hyderabad             6\n",
              "          Royal Challengers Bangalore     5\n",
              "          Delhi Daredevils                2\n",
              "IPL-2015  Chennai Super Kings            10\n",
              "          Mumbai Indians                 10\n",
              "          Royal Challengers Bangalore     8\n",
              "          Kolkata Knight Riders           7\n",
              "          Rajasthan Royals                7\n",
              "          Sunrisers Hyderabad             7\n",
              "          Delhi Daredevils                5\n",
              "          Kings XI Punjab                 3\n",
              "IPL-2016  Sunrisers Hyderabad            11\n",
              "          Gujarat Lions                   9\n",
              "          Royal Challengers Bangalore     9\n",
              "          Kolkata Knight Riders           8\n",
              "          Delhi Daredevils                7\n",
              "          Mumbai Indians                  7\n",
              "          Rising Pune Supergiants         5\n",
              "          Kings XI Punjab                 4\n",
              "IPL-2017  Mumbai Indians                 12\n",
              "          Rising Pune Supergiant         10\n",
              "          Kolkata Knight Riders           9\n",
              "          Sunrisers Hyderabad             8\n",
              "          Kings XI Punjab                 7\n",
              "          Delhi Daredevils                6\n",
              "          Gujarat Lions                   4\n",
              "          Royal Challengers Bangalore     3\n",
              "IPL-2018  Chennai Super Kings            11\n",
              "          Sunrisers Hyderabad            10\n",
              "          Kolkata Knight Riders           9\n",
              "          Rajasthan Royals                7\n",
              "          Kings XI Punjab                 6\n",
              "          Mumbai Indians                  6\n",
              "          Royal Challengers Bangalore     6\n",
              "          Delhi Daredevils                5\n",
              "IPL-2019  Mumbai Indians                 11\n",
              "          Chennai Super Kings            10\n",
              "          Delhi Capitals                 10\n",
              "          Kings XI Punjab                 6\n",
              "          Kolkata Knight Riders           6\n",
              "          Sunrisers Hyderabad             6\n",
              "          Rajasthan Royals                5\n",
              "          Royal Challengers Bangalore     5\n",
              "Name: winner, dtype: int64"
            ]
          },
          "metadata": {
            "tags": []
          },
          "execution_count": 57
        }
      ]
    },
    {
      "cell_type": "code",
      "metadata": {
        "colab": {
          "base_uri": "https://localhost:8080/"
        },
        "id": "Sj3ObbKMt4MR",
        "outputId": "1395f932-9be9-4732-b25f-a8234f54bb57"
      },
      "source": [
        "ipl_data['toss_decision'].value_counts()"
      ],
      "execution_count": null,
      "outputs": [
        {
          "output_type": "execute_result",
          "data": {
            "text/plain": [
              "field    463\n",
              "bat      293\n",
              "Name: toss_decision, dtype: int64"
            ]
          },
          "metadata": {
            "tags": []
          },
          "execution_count": 59
        }
      ]
    },
    {
      "cell_type": "markdown",
      "metadata": {
        "id": "TsIZ7_9SuUPz"
      },
      "source": [
        "**Man of Match- Highest to lowest (in won matches)**"
      ]
    },
    {
      "cell_type": "code",
      "metadata": {
        "colab": {
          "base_uri": "https://localhost:8080/"
        },
        "id": "HWBXdKFkuDVx",
        "outputId": "c25b444e-0e5e-41bd-da71-82b6f86f1043"
      },
      "source": [
        "ipl_data['player_of_match'].value_counts()"
      ],
      "execution_count": null,
      "outputs": [
        {
          "output_type": "execute_result",
          "data": {
            "text/plain": [
              "CH Gayle             21\n",
              "AB de Villiers       20\n",
              "RG Sharma            17\n",
              "MS Dhoni             17\n",
              "DA Warner            17\n",
              "YK Pathan            16\n",
              "SR Watson            15\n",
              "SK Raina             14\n",
              "G Gambhir            13\n",
              "AM Rahane            12\n",
              "MEK Hussey           12\n",
              "V Kohli              12\n",
              "A Mishra             11\n",
              "V Sehwag             11\n",
              "AD Russell           11\n",
              "DR Smith             11\n",
              "KA Pollard           10\n",
              "JH Kallis            10\n",
              "SP Narine             9\n",
              "SE Marsh              9\n",
              "AT Rayudu             9\n",
              "UT Yadav              8\n",
              "SR Tendulkar          8\n",
              "Harbhajan Singh       8\n",
              "RA Jadeja             8\n",
              "AC Gilchrist          7\n",
              "Rashid Khan           7\n",
              "RV Uthappa            7\n",
              "RR Pant               6\n",
              "SL Malinga            6\n",
              "M Vijay               6\n",
              "S Dhawan              6\n",
              "HH Pandya             6\n",
              "BJ Hodge              6\n",
              "A Nehra               6\n",
              "JD Unadkat            5\n",
              "Yuvraj Singh          5\n",
              "PA Patel              5\n",
              "JC Buttler            5\n",
              "SC Ganguly            5\n",
              "GJ Maxwell            5\n",
              "SPD Smith             5\n",
              "KC Sangakkara         5\n",
              "AJ Finch              5\n",
              "BB McCullum           5\n",
              "SV Samson             5\n",
              "B Kumar               5\n",
              "Sandeep Sharma        5\n",
              "DW Steyn              5\n",
              "JP Faulkner           5\n",
              "DPMD Jayawardene      5\n",
              "JJ Bumrah             5\n",
              "AR Patel              4\n",
              "SS Iyer               4\n",
              "JP Duminy             4\n",
              "KH Pandya             4\n",
              "KD Karthik            4\n",
              "ML Hayden             4\n",
              "F du Plessis          4\n",
              "KL Rahul              4\n",
              "SK Warne              4\n",
              "N Rana                4\n",
              "CA Lynn               4\n",
              "MK Pandey             4\n",
              "NM Coulter-Nile       4\n",
              "MK Tiwary             3\n",
              "CJ Anderson           3\n",
              "KS Williamson         3\n",
              "DJ Bravo              3\n",
              "KP Pietersen          3\n",
              "A Symonds             3\n",
              "M Vohra               3\n",
              "LMP Simmons           3\n",
              "A Kumble              3\n",
              "KK Nair               3\n",
              "Mandeep Singh         3\n",
              "BA Stokes             3\n",
              "PP Chawla             3\n",
              "DA Miller             3\n",
              "L Balaji              3\n",
              "LRPL Taylor           3\n",
              "WP Saha               3\n",
              "R Vinay Kumar         3\n",
              "R Sharma              2\n",
              "HV Patel              2\n",
              "BW Hilfenhaus         2\n",
              "VR Aaron              2\n",
              "GC Smith              2\n",
              "AS Rajpoot            2\n",
              "JA Morkel             2\n",
              "DJ Hussey             2\n",
              "IK Pathan             2\n",
              "SK Trivedi            2\n",
              "MV Boucher            2\n",
              "PV Tambe              2\n",
              "HM Amla               2\n",
              "MP Stoinis            2\n",
              "DE Bollinger          2\n",
              "S Gopal               2\n",
              "M Morkel              2\n",
              "ST Jayasuriya         2\n",
              "MM Patel              2\n",
              "MC Henriques          2\n",
              "Azhar Mahmood         2\n",
              "AJ Tye                2\n",
              "R Dravid              2\n",
              "SM Pollock            2\n",
              "PC Valthaty           2\n",
              "Harmeet Singh         2\n",
              "MM Sharma             2\n",
              "P Kumar               2\n",
              "R Ashwin              2\n",
              "GH Vihari             2\n",
              "Sohail Tanvir         2\n",
              "M Muralitharan        2\n",
              "AS Yadav              2\n",
              "KM Jadhav             2\n",
              "Shakib Al Hasan       2\n",
              "MJ McClenaghan        2\n",
              "M Ntini               2\n",
              "I Sharma              2\n",
              "Iqbal Abdulla         2\n",
              "CH Morris             2\n",
              "MG Johnson            2\n",
              "J Bairstow            2\n",
              "MA Agarwal            2\n",
              "B Lee                 2\n",
              "AB Dinda              2\n",
              "P Negi                2\n",
              "MS Gony               1\n",
              "LH Ferguson           1\n",
              "SB Jakati             1\n",
              "LR Shukla             1\n",
              "L Ngidi               1\n",
              "A Chandila            1\n",
              "TA Boult              1\n",
              "CL White              1\n",
              "R McLaren             1\n",
              "J Theron              1\n",
              "TG Southee            1\n",
              "KMDN Kulasekara       1\n",
              "DL Vettori            1\n",
              "SM Katich             1\n",
              "Mohammed Siraj        1\n",
              "Kuldeep Yadav         1\n",
              "AD Mathews            1\n",
              "BA Bhatt              1\n",
              "AA Jhunjhunwala       1\n",
              "DP Nannes             1\n",
              "S Hetmyer             1\n",
              "Q de Kock             1\n",
              "K Paul                1\n",
              "Z Khan                1\n",
              "AD Mascarenhas        1\n",
              "S Anirudha            1\n",
              "K Rabada              1\n",
              "AP Tare               1\n",
              "DJG Sammy             1\n",
              "Washington Sundar     1\n",
              "M Ur Rahman           1\n",
              "Ishan Kishan          1\n",
              "Shoaib Akhtar         1\n",
              "TL Suman              1\n",
              "PD Collingwood        1\n",
              "KK Cooper             1\n",
              "S Nadeem              1\n",
              "SB Wagh               1\n",
              "CRD Fernando          1\n",
              "MA Starc              1\n",
              "S Curran              1\n",
              "SW Billings           1\n",
              "MR Marsh              1\n",
              "J Botha               1\n",
              "R Bhatia              1\n",
              "SA Asnodkar           1\n",
              "P Shaw                1\n",
              "EJG Morgan            1\n",
              "A Joseph              1\n",
              "DL Chahar             1\n",
              "MF Maharoof           1\n",
              "SP Goswami            1\n",
              "KV Sharma             1\n",
              "HH Gibbs              1\n",
              "Mustafizur Rahman     1\n",
              "S Sreesanth           1\n",
              "WPUJC Vaas            1\n",
              "AC Voges              1\n",
              "S Sohal               1\n",
              "Mohammed Shami        1\n",
              "LJ Wright             1\n",
              "S Aravind             1\n",
              "RE Levi               1\n",
              "JD Ryder              1\n",
              "J Archer              1\n",
              "TM Dilshan            1\n",
              "YS Chahal             1\n",
              "RJ Harris             1\n",
              "NV Ojha               1\n",
              "S Badrinath           1\n",
              "A Zampa               1\n",
              "K Ahmed               1\n",
              "MN Samuels            1\n",
              "MS Bisla              1\n",
              "DJ Hooda              1\n",
              "P Parameswaran        1\n",
              "PP Ojha               1\n",
              "H Gurney              1\n",
              "Umar Gul              1\n",
              "RA Tripathi           1\n",
              "GD McGrath            1\n",
              "SA Yadav              1\n",
              "JEC Franklin          1\n",
              "RP Singh              1\n",
              "B Stanlake            1\n",
              "RS Bopara             1\n",
              "BCJ Cutting           1\n",
              "MD Mishra             1\n",
              "S Gill                1\n",
              "MJ Lumb               1\n",
              "JJ Roy                1\n",
              "GJ Bailey             1\n",
              "A Singh               1\n",
              "Imran Tahir           1\n",
              "M Kartik              1\n",
              "CR Brathwaite         1\n",
              "JDP Oram              1\n",
              "Name: player_of_match, dtype: int64"
            ]
          },
          "metadata": {
            "tags": []
          },
          "execution_count": 60
        }
      ]
    },
    {
      "cell_type": "markdown",
      "metadata": {
        "id": "eqQoq2rlu0fA"
      },
      "source": [
        "**In which city were the number of matches played?**\n"
      ]
    },
    {
      "cell_type": "code",
      "metadata": {
        "colab": {
          "base_uri": "https://localhost:8080/"
        },
        "id": "_4BDWZbNuumA",
        "outputId": "78eb479d-ba13-4680-8250-f99b1c9dcab8"
      },
      "source": [
        "ipl_data['city'].value_counts()"
      ],
      "execution_count": null,
      "outputs": [
        {
          "output_type": "execute_result",
          "data": {
            "text/plain": [
              "Mumbai            101\n",
              "Kolkata            77\n",
              "Delhi              74\n",
              "Bangalore          66\n",
              "Hyderabad          64\n",
              "Chennai            57\n",
              "Jaipur             47\n",
              "Chandigarh         46\n",
              "Pune               38\n",
              "Durban             15\n",
              "Bengaluru          14\n",
              "Visakhapatnam      13\n",
              "Centurion          12\n",
              "Ahmedabad          12\n",
              "Rajkot             10\n",
              "Mohali             10\n",
              "Dharamsala          9\n",
              "Indore              9\n",
              "Johannesburg        8\n",
              "Port Elizabeth      7\n",
              "Cuttack             7\n",
              "Cape Town           7\n",
              "Ranchi              7\n",
              "Abu Dhabi           7\n",
              "Sharjah             6\n",
              "Raipur              6\n",
              "Kochi               5\n",
              "Kanpur              4\n",
              "East London         3\n",
              "Nagpur              3\n",
              "Kimberley           3\n",
              "Bloemfontein        2\n",
              "Name: city, dtype: int64"
            ]
          },
          "metadata": {
            "tags": []
          },
          "execution_count": 61
        }
      ]
    }
  ]
}